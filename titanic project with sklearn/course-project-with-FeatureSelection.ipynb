{
 "cells": [
  {
   "cell_type": "markdown",
   "id": "befb96d9",
   "metadata": {},
   "source": [
    "# Dataset Description"
   ]
  },
  {
   "cell_type": "markdown",
   "id": "88348c64",
   "metadata": {},
   "source": [
    "# Data Dictionary\n",
    "\n",
    "Survival -> 0 = No, 1 = Yes\n",
    "pclass (Ticket class) ->\t1 = 1st, 2 = 2nd, 3 = 3rd\n",
    "sex\t-> Male, Female\t\n",
    "sibsp\t// of siblings / spouses aboard the Titanic\t\n",
    "parch\t// of parents / children aboard the Titanic\t\n",
    "ticket    // Ticket number\t\n",
    "fare\t   // Passenger fare\t\n",
    "cabin\tCabin number\t\n",
    "embarked\t(Port of Embarkation) ->\tC = Cherbourg, Q = Queenstown, S = Southampton\n",
    "\n",
    "#  Variable Notes\n",
    "pclass: A proxy for socio-economic status (SES)\n",
    "1st = Upper\n",
    "2nd = Middle\n",
    "3rd = Lower\n",
    "\n",
    "age: Age is fractional if less than 1. If the age is estimated, is it in the form of xx.5\n",
    "\n",
    "sibsp: The dataset defines family relations in this way...\n",
    "Sibling = brother, sister, stepbrother, stepsister\n",
    "Spouse = husband, wife (mistresses and fiancés were ignored)\n",
    "\n",
    "parch: The dataset defines family relations in this way...\n",
    "Parent = mother, father\n",
    "Child = daughter, son, stepdaughter, stepson\n",
    "Some children travelled only with a nanny, therefore parch=0 for them.\n",
    "\n",
    "# From: https://www.kaggle.com/competitions/titanic/data"
   ]
  },
  {
   "cell_type": "markdown",
   "id": "a9a50aae",
   "metadata": {},
   "source": [
    "# Import Libraries"
   ]
  },
  {
   "cell_type": "code",
   "execution_count": 1,
   "id": "c8804d30",
   "metadata": {},
   "outputs": [],
   "source": [
    "import pandas as pd\n",
    "import numpy as np\n",
    "from sklearn import linear_model\n",
    "import matplotlib.pyplot as plt\n",
    "%matplotlib inline\n",
    "import seaborn as sns\n",
    "sns.set()"
   ]
  },
  {
   "cell_type": "markdown",
   "id": "65190c17",
   "metadata": {},
   "source": [
    "# Load the data"
   ]
  },
  {
   "cell_type": "code",
   "execution_count": 2,
   "id": "a7506123",
   "metadata": {
    "scrolled": true
   },
   "outputs": [
    {
     "data": {
      "text/html": [
       "<div>\n",
       "<style scoped>\n",
       "    .dataframe tbody tr th:only-of-type {\n",
       "        vertical-align: middle;\n",
       "    }\n",
       "\n",
       "    .dataframe tbody tr th {\n",
       "        vertical-align: top;\n",
       "    }\n",
       "\n",
       "    .dataframe thead th {\n",
       "        text-align: right;\n",
       "    }\n",
       "</style>\n",
       "<table border=\"1\" class=\"dataframe\">\n",
       "  <thead>\n",
       "    <tr style=\"text-align: right;\">\n",
       "      <th></th>\n",
       "      <th>PassengerId</th>\n",
       "      <th>Survived</th>\n",
       "      <th>Pclass</th>\n",
       "      <th>Name</th>\n",
       "      <th>Sex</th>\n",
       "      <th>Age</th>\n",
       "      <th>SibSp</th>\n",
       "      <th>Parch</th>\n",
       "      <th>Ticket</th>\n",
       "      <th>Fare</th>\n",
       "      <th>Cabin</th>\n",
       "      <th>Embarked</th>\n",
       "    </tr>\n",
       "  </thead>\n",
       "  <tbody>\n",
       "    <tr>\n",
       "      <th>0</th>\n",
       "      <td>1</td>\n",
       "      <td>0</td>\n",
       "      <td>3</td>\n",
       "      <td>Braund, Mr. Owen Harris</td>\n",
       "      <td>male</td>\n",
       "      <td>22.0</td>\n",
       "      <td>1</td>\n",
       "      <td>0</td>\n",
       "      <td>A/5 21171</td>\n",
       "      <td>7.2500</td>\n",
       "      <td>NaN</td>\n",
       "      <td>S</td>\n",
       "    </tr>\n",
       "    <tr>\n",
       "      <th>1</th>\n",
       "      <td>2</td>\n",
       "      <td>1</td>\n",
       "      <td>1</td>\n",
       "      <td>Cumings, Mrs. John Bradley (Florence Briggs Th...</td>\n",
       "      <td>female</td>\n",
       "      <td>38.0</td>\n",
       "      <td>1</td>\n",
       "      <td>0</td>\n",
       "      <td>PC 17599</td>\n",
       "      <td>71.2833</td>\n",
       "      <td>C85</td>\n",
       "      <td>C</td>\n",
       "    </tr>\n",
       "    <tr>\n",
       "      <th>2</th>\n",
       "      <td>3</td>\n",
       "      <td>1</td>\n",
       "      <td>3</td>\n",
       "      <td>Heikkinen, Miss. Laina</td>\n",
       "      <td>female</td>\n",
       "      <td>26.0</td>\n",
       "      <td>0</td>\n",
       "      <td>0</td>\n",
       "      <td>STON/O2. 3101282</td>\n",
       "      <td>7.9250</td>\n",
       "      <td>NaN</td>\n",
       "      <td>S</td>\n",
       "    </tr>\n",
       "    <tr>\n",
       "      <th>3</th>\n",
       "      <td>4</td>\n",
       "      <td>1</td>\n",
       "      <td>1</td>\n",
       "      <td>Futrelle, Mrs. Jacques Heath (Lily May Peel)</td>\n",
       "      <td>female</td>\n",
       "      <td>35.0</td>\n",
       "      <td>1</td>\n",
       "      <td>0</td>\n",
       "      <td>113803</td>\n",
       "      <td>53.1000</td>\n",
       "      <td>C123</td>\n",
       "      <td>S</td>\n",
       "    </tr>\n",
       "    <tr>\n",
       "      <th>4</th>\n",
       "      <td>5</td>\n",
       "      <td>0</td>\n",
       "      <td>3</td>\n",
       "      <td>Allen, Mr. William Henry</td>\n",
       "      <td>male</td>\n",
       "      <td>35.0</td>\n",
       "      <td>0</td>\n",
       "      <td>0</td>\n",
       "      <td>373450</td>\n",
       "      <td>8.0500</td>\n",
       "      <td>NaN</td>\n",
       "      <td>S</td>\n",
       "    </tr>\n",
       "  </tbody>\n",
       "</table>\n",
       "</div>"
      ],
      "text/plain": [
       "   PassengerId  Survived  Pclass  \\\n",
       "0            1         0       3   \n",
       "1            2         1       1   \n",
       "2            3         1       3   \n",
       "3            4         1       1   \n",
       "4            5         0       3   \n",
       "\n",
       "                                                Name     Sex   Age  SibSp  \\\n",
       "0                            Braund, Mr. Owen Harris    male  22.0      1   \n",
       "1  Cumings, Mrs. John Bradley (Florence Briggs Th...  female  38.0      1   \n",
       "2                             Heikkinen, Miss. Laina  female  26.0      0   \n",
       "3       Futrelle, Mrs. Jacques Heath (Lily May Peel)  female  35.0      1   \n",
       "4                           Allen, Mr. William Henry    male  35.0      0   \n",
       "\n",
       "   Parch            Ticket     Fare Cabin Embarked  \n",
       "0      0         A/5 21171   7.2500   NaN        S  \n",
       "1      0          PC 17599  71.2833   C85        C  \n",
       "2      0  STON/O2. 3101282   7.9250   NaN        S  \n",
       "3      0            113803  53.1000  C123        S  \n",
       "4      0            373450   8.0500   NaN        S  "
      ]
     },
     "execution_count": 2,
     "metadata": {},
     "output_type": "execute_result"
    }
   ],
   "source": [
    "raw_data = pd.read_csv('./train.csv')\n",
    "raw_data.head()"
   ]
  },
  {
   "cell_type": "markdown",
   "id": "a11691d0",
   "metadata": {},
   "source": [
    "# Data Exploration"
   ]
  },
  {
   "cell_type": "markdown",
   "id": "b00e2bb1",
   "metadata": {},
   "source": [
    "### Explore the descriptive statistics of the attributes"
   ]
  },
  {
   "cell_type": "code",
   "execution_count": 3,
   "id": "edde3d85",
   "metadata": {
    "scrolled": false
   },
   "outputs": [
    {
     "data": {
      "text/html": [
       "<div>\n",
       "<style scoped>\n",
       "    .dataframe tbody tr th:only-of-type {\n",
       "        vertical-align: middle;\n",
       "    }\n",
       "\n",
       "    .dataframe tbody tr th {\n",
       "        vertical-align: top;\n",
       "    }\n",
       "\n",
       "    .dataframe thead th {\n",
       "        text-align: right;\n",
       "    }\n",
       "</style>\n",
       "<table border=\"1\" class=\"dataframe\">\n",
       "  <thead>\n",
       "    <tr style=\"text-align: right;\">\n",
       "      <th></th>\n",
       "      <th>PassengerId</th>\n",
       "      <th>Survived</th>\n",
       "      <th>Pclass</th>\n",
       "      <th>Name</th>\n",
       "      <th>Sex</th>\n",
       "      <th>Age</th>\n",
       "      <th>SibSp</th>\n",
       "      <th>Parch</th>\n",
       "      <th>Ticket</th>\n",
       "      <th>Fare</th>\n",
       "      <th>Cabin</th>\n",
       "      <th>Embarked</th>\n",
       "    </tr>\n",
       "  </thead>\n",
       "  <tbody>\n",
       "    <tr>\n",
       "      <th>count</th>\n",
       "      <td>891.000000</td>\n",
       "      <td>891.000000</td>\n",
       "      <td>891.000000</td>\n",
       "      <td>891</td>\n",
       "      <td>891</td>\n",
       "      <td>714.000000</td>\n",
       "      <td>891.000000</td>\n",
       "      <td>891.000000</td>\n",
       "      <td>891</td>\n",
       "      <td>891.000000</td>\n",
       "      <td>204</td>\n",
       "      <td>889</td>\n",
       "    </tr>\n",
       "    <tr>\n",
       "      <th>unique</th>\n",
       "      <td>NaN</td>\n",
       "      <td>NaN</td>\n",
       "      <td>NaN</td>\n",
       "      <td>891</td>\n",
       "      <td>2</td>\n",
       "      <td>NaN</td>\n",
       "      <td>NaN</td>\n",
       "      <td>NaN</td>\n",
       "      <td>681</td>\n",
       "      <td>NaN</td>\n",
       "      <td>147</td>\n",
       "      <td>3</td>\n",
       "    </tr>\n",
       "    <tr>\n",
       "      <th>top</th>\n",
       "      <td>NaN</td>\n",
       "      <td>NaN</td>\n",
       "      <td>NaN</td>\n",
       "      <td>Braund, Mr. Owen Harris</td>\n",
       "      <td>male</td>\n",
       "      <td>NaN</td>\n",
       "      <td>NaN</td>\n",
       "      <td>NaN</td>\n",
       "      <td>347082</td>\n",
       "      <td>NaN</td>\n",
       "      <td>B96 B98</td>\n",
       "      <td>S</td>\n",
       "    </tr>\n",
       "    <tr>\n",
       "      <th>freq</th>\n",
       "      <td>NaN</td>\n",
       "      <td>NaN</td>\n",
       "      <td>NaN</td>\n",
       "      <td>1</td>\n",
       "      <td>577</td>\n",
       "      <td>NaN</td>\n",
       "      <td>NaN</td>\n",
       "      <td>NaN</td>\n",
       "      <td>7</td>\n",
       "      <td>NaN</td>\n",
       "      <td>4</td>\n",
       "      <td>644</td>\n",
       "    </tr>\n",
       "    <tr>\n",
       "      <th>mean</th>\n",
       "      <td>446.000000</td>\n",
       "      <td>0.383838</td>\n",
       "      <td>2.308642</td>\n",
       "      <td>NaN</td>\n",
       "      <td>NaN</td>\n",
       "      <td>29.699118</td>\n",
       "      <td>0.523008</td>\n",
       "      <td>0.381594</td>\n",
       "      <td>NaN</td>\n",
       "      <td>32.204208</td>\n",
       "      <td>NaN</td>\n",
       "      <td>NaN</td>\n",
       "    </tr>\n",
       "    <tr>\n",
       "      <th>std</th>\n",
       "      <td>257.353842</td>\n",
       "      <td>0.486592</td>\n",
       "      <td>0.836071</td>\n",
       "      <td>NaN</td>\n",
       "      <td>NaN</td>\n",
       "      <td>14.526497</td>\n",
       "      <td>1.102743</td>\n",
       "      <td>0.806057</td>\n",
       "      <td>NaN</td>\n",
       "      <td>49.693429</td>\n",
       "      <td>NaN</td>\n",
       "      <td>NaN</td>\n",
       "    </tr>\n",
       "    <tr>\n",
       "      <th>min</th>\n",
       "      <td>1.000000</td>\n",
       "      <td>0.000000</td>\n",
       "      <td>1.000000</td>\n",
       "      <td>NaN</td>\n",
       "      <td>NaN</td>\n",
       "      <td>0.420000</td>\n",
       "      <td>0.000000</td>\n",
       "      <td>0.000000</td>\n",
       "      <td>NaN</td>\n",
       "      <td>0.000000</td>\n",
       "      <td>NaN</td>\n",
       "      <td>NaN</td>\n",
       "    </tr>\n",
       "    <tr>\n",
       "      <th>25%</th>\n",
       "      <td>223.500000</td>\n",
       "      <td>0.000000</td>\n",
       "      <td>2.000000</td>\n",
       "      <td>NaN</td>\n",
       "      <td>NaN</td>\n",
       "      <td>20.125000</td>\n",
       "      <td>0.000000</td>\n",
       "      <td>0.000000</td>\n",
       "      <td>NaN</td>\n",
       "      <td>7.910400</td>\n",
       "      <td>NaN</td>\n",
       "      <td>NaN</td>\n",
       "    </tr>\n",
       "    <tr>\n",
       "      <th>50%</th>\n",
       "      <td>446.000000</td>\n",
       "      <td>0.000000</td>\n",
       "      <td>3.000000</td>\n",
       "      <td>NaN</td>\n",
       "      <td>NaN</td>\n",
       "      <td>28.000000</td>\n",
       "      <td>0.000000</td>\n",
       "      <td>0.000000</td>\n",
       "      <td>NaN</td>\n",
       "      <td>14.454200</td>\n",
       "      <td>NaN</td>\n",
       "      <td>NaN</td>\n",
       "    </tr>\n",
       "    <tr>\n",
       "      <th>75%</th>\n",
       "      <td>668.500000</td>\n",
       "      <td>1.000000</td>\n",
       "      <td>3.000000</td>\n",
       "      <td>NaN</td>\n",
       "      <td>NaN</td>\n",
       "      <td>38.000000</td>\n",
       "      <td>1.000000</td>\n",
       "      <td>0.000000</td>\n",
       "      <td>NaN</td>\n",
       "      <td>31.000000</td>\n",
       "      <td>NaN</td>\n",
       "      <td>NaN</td>\n",
       "    </tr>\n",
       "    <tr>\n",
       "      <th>max</th>\n",
       "      <td>891.000000</td>\n",
       "      <td>1.000000</td>\n",
       "      <td>3.000000</td>\n",
       "      <td>NaN</td>\n",
       "      <td>NaN</td>\n",
       "      <td>80.000000</td>\n",
       "      <td>8.000000</td>\n",
       "      <td>6.000000</td>\n",
       "      <td>NaN</td>\n",
       "      <td>512.329200</td>\n",
       "      <td>NaN</td>\n",
       "      <td>NaN</td>\n",
       "    </tr>\n",
       "  </tbody>\n",
       "</table>\n",
       "</div>"
      ],
      "text/plain": [
       "        PassengerId    Survived      Pclass                     Name   Sex  \\\n",
       "count    891.000000  891.000000  891.000000                      891   891   \n",
       "unique          NaN         NaN         NaN                      891     2   \n",
       "top             NaN         NaN         NaN  Braund, Mr. Owen Harris  male   \n",
       "freq            NaN         NaN         NaN                        1   577   \n",
       "mean     446.000000    0.383838    2.308642                      NaN   NaN   \n",
       "std      257.353842    0.486592    0.836071                      NaN   NaN   \n",
       "min        1.000000    0.000000    1.000000                      NaN   NaN   \n",
       "25%      223.500000    0.000000    2.000000                      NaN   NaN   \n",
       "50%      446.000000    0.000000    3.000000                      NaN   NaN   \n",
       "75%      668.500000    1.000000    3.000000                      NaN   NaN   \n",
       "max      891.000000    1.000000    3.000000                      NaN   NaN   \n",
       "\n",
       "               Age       SibSp       Parch  Ticket        Fare    Cabin  \\\n",
       "count   714.000000  891.000000  891.000000     891  891.000000      204   \n",
       "unique         NaN         NaN         NaN     681         NaN      147   \n",
       "top            NaN         NaN         NaN  347082         NaN  B96 B98   \n",
       "freq           NaN         NaN         NaN       7         NaN        4   \n",
       "mean     29.699118    0.523008    0.381594     NaN   32.204208      NaN   \n",
       "std      14.526497    1.102743    0.806057     NaN   49.693429      NaN   \n",
       "min       0.420000    0.000000    0.000000     NaN    0.000000      NaN   \n",
       "25%      20.125000    0.000000    0.000000     NaN    7.910400      NaN   \n",
       "50%      28.000000    0.000000    0.000000     NaN   14.454200      NaN   \n",
       "75%      38.000000    1.000000    0.000000     NaN   31.000000      NaN   \n",
       "max      80.000000    8.000000    6.000000     NaN  512.329200      NaN   \n",
       "\n",
       "       Embarked  \n",
       "count       889  \n",
       "unique        3  \n",
       "top           S  \n",
       "freq        644  \n",
       "mean        NaN  \n",
       "std         NaN  \n",
       "min         NaN  \n",
       "25%         NaN  \n",
       "50%         NaN  \n",
       "75%         NaN  \n",
       "max         NaN  "
      ]
     },
     "execution_count": 3,
     "metadata": {},
     "output_type": "execute_result"
    }
   ],
   "source": [
    "raw_data.describe(include='all')\n",
    "# The categorical variables don't have some types of numerical descriptives and numerical variables \n",
    "# don't have some types of categorical descriptives so the value displayed is NaN."
   ]
  },
  {
   "cell_type": "markdown",
   "id": "ef0d3b1e",
   "metadata": {},
   "source": [
    "#### From the descriptive statistics I observed that:\n",
    "##### >> there are missing values for the attributes Age, Cabin and Embarked\n",
    "##### >> there are no duplicate tuples, as there 891 unique names for 891 observations"
   ]
  },
  {
   "cell_type": "code",
   "execution_count": 4,
   "id": "3ccaa9bd",
   "metadata": {},
   "outputs": [
    {
     "data": {
      "text/plain": [
       "False"
      ]
     },
     "execution_count": 4,
     "metadata": {},
     "output_type": "execute_result"
    }
   ],
   "source": [
    "# with this line I can confirm that there are no duplicate tuples\n",
    "raw_data.duplicated().any()"
   ]
  },
  {
   "cell_type": "code",
   "execution_count": 5,
   "id": "475a3ac8",
   "metadata": {},
   "outputs": [],
   "source": [
    "# I'll also drop the attribute Name, because I believe that in this case the name has no use as a predictor\n",
    "raw_data = raw_data.drop(['Name'], axis=1)"
   ]
  },
  {
   "cell_type": "code",
   "execution_count": 6,
   "id": "12e6ed5a",
   "metadata": {},
   "outputs": [
    {
     "data": {
      "text/plain": [
       "PassengerId      int64\n",
       "Survived         int64\n",
       "Pclass           int64\n",
       "Sex             object\n",
       "Age            float64\n",
       "SibSp            int64\n",
       "Parch            int64\n",
       "Ticket          object\n",
       "Fare           float64\n",
       "Cabin           object\n",
       "Embarked        object\n",
       "dtype: object"
      ]
     },
     "execution_count": 6,
     "metadata": {},
     "output_type": "execute_result"
    }
   ],
   "source": [
    "raw_data.dtypes"
   ]
  },
  {
   "cell_type": "code",
   "execution_count": 7,
   "id": "9c7ae818",
   "metadata": {},
   "outputs": [
    {
     "data": {
      "text/plain": [
       "0             A/5 21171\n",
       "1              PC 17599\n",
       "2      STON/O2. 3101282\n",
       "3                113803\n",
       "4                373450\n",
       "             ...       \n",
       "886              211536\n",
       "887              112053\n",
       "888          W./C. 6607\n",
       "889              111369\n",
       "890              370376\n",
       "Name: Ticket, Length: 891, dtype: object"
      ]
     },
     "execution_count": 7,
     "metadata": {},
     "output_type": "execute_result"
    }
   ],
   "source": [
    "# From the data types of the attributes we can se that except the ticket number which seems to be an object\n",
    "# instead of number as it was described in the dataset description, all other attributes data type is correct\n",
    "raw_data['Ticket']"
   ]
  },
  {
   "cell_type": "code",
   "execution_count": 8,
   "id": "8fb447b4",
   "metadata": {},
   "outputs": [],
   "source": [
    "# From the data above, we can see that some ticket numbers have preffixes, which may reffer \n",
    "# to specific agencies\n",
    "\n",
    "# I'll extract the number and the string preffix, if it exist, from each ticket value and save them\n",
    "# into new attributes called ticket_agency (for the preffix) and ticket_number for the number itself...\n",
    "\n",
    "# raw_data['Ticket'] = raw_data['Ticket'].apply()\n",
    "# raw_data['Ticket']"
   ]
  },
  {
   "cell_type": "code",
   "execution_count": 9,
   "id": "b3f63dc0",
   "metadata": {},
   "outputs": [],
   "source": [
    "# Although the Ticket attribute I may lose some explanatory power if I drop the column refering to this\n",
    "# attribute, I'll still drop it for this model in specific because I believe that it's o no use\n",
    "raw_data = raw_data.drop(['Ticket'], axis=1)"
   ]
  },
  {
   "cell_type": "markdown",
   "id": "6ef32cd4",
   "metadata": {},
   "source": [
    "### Dealing with the missing values"
   ]
  },
  {
   "cell_type": "code",
   "execution_count": 10,
   "id": "e592cfac",
   "metadata": {
    "scrolled": false
   },
   "outputs": [
    {
     "data": {
      "text/plain": [
       "PassengerId      0\n",
       "Survived         0\n",
       "Pclass           0\n",
       "Sex              0\n",
       "Age            177\n",
       "SibSp            0\n",
       "Parch            0\n",
       "Fare             0\n",
       "Cabin          687\n",
       "Embarked         2\n",
       "dtype: int64"
      ]
     },
     "execution_count": 10,
     "metadata": {},
     "output_type": "execute_result"
    }
   ],
   "source": [
    "raw_data.isnull().sum() # To get the total number of missing values for each attribute"
   ]
  },
  {
   "cell_type": "code",
   "execution_count": 11,
   "id": "12de4805",
   "metadata": {},
   "outputs": [
    {
     "data": {
      "text/html": [
       "<div>\n",
       "<style scoped>\n",
       "    .dataframe tbody tr th:only-of-type {\n",
       "        vertical-align: middle;\n",
       "    }\n",
       "\n",
       "    .dataframe tbody tr th {\n",
       "        vertical-align: top;\n",
       "    }\n",
       "\n",
       "    .dataframe thead th {\n",
       "        text-align: right;\n",
       "    }\n",
       "</style>\n",
       "<table border=\"1\" class=\"dataframe\">\n",
       "  <thead>\n",
       "    <tr style=\"text-align: right;\">\n",
       "      <th></th>\n",
       "      <th>Missing Ratio</th>\n",
       "    </tr>\n",
       "  </thead>\n",
       "  <tbody>\n",
       "    <tr>\n",
       "      <th>Cabin</th>\n",
       "      <td>77.104377</td>\n",
       "    </tr>\n",
       "    <tr>\n",
       "      <th>Age</th>\n",
       "      <td>19.865320</td>\n",
       "    </tr>\n",
       "    <tr>\n",
       "      <th>Embarked</th>\n",
       "      <td>0.224467</td>\n",
       "    </tr>\n",
       "  </tbody>\n",
       "</table>\n",
       "</div>"
      ],
      "text/plain": [
       "          Missing Ratio\n",
       "Cabin         77.104377\n",
       "Age           19.865320\n",
       "Embarked       0.224467"
      ]
     },
     "execution_count": 11,
     "metadata": {},
     "output_type": "execute_result"
    }
   ],
   "source": [
    "# Get the percentage of missing values for each attribute with missing values\n",
    "raw_data_mv = raw_data.isnull().sum()/len(raw_data)*100 \n",
    "raw_data_mv = raw_data_mv.drop(raw_data_mv[raw_data_mv == 0].index).sort_values(ascending=False)[:30]\n",
    "missing_data = pd.DataFrame({'Missing Ratio' :raw_data_mv})\n",
    "missing_data"
   ]
  },
  {
   "cell_type": "markdown",
   "id": "5a3402fb",
   "metadata": {},
   "source": [
    "#### Plot the missing values"
   ]
  },
  {
   "cell_type": "code",
   "execution_count": 12,
   "id": "cc7cb474",
   "metadata": {},
   "outputs": [
    {
     "data": {
      "text/plain": [
       "Text(0.5, 1.0, 'Attributes wiht Missing Values')"
      ]
     },
     "execution_count": 12,
     "metadata": {},
     "output_type": "execute_result"
    },
    {
     "data": {
      "image/png": "[encoded data removed]",
      "text/plain": [
       "<Figure size 576x432 with 1 Axes>"
      ]
     },
     "metadata": {},
     "output_type": "display_data"
    }
   ],
   "source": [
    "fig, ax = plt.subplots(figsize=(8,6))\n",
    "plt.xticks(rotation='90')\n",
    "sns.barplot(x=raw_data_mv.index, y=raw_data_mv)\n",
    "plt.xlabel('Features', fontsize=15)\n",
    "plt.ylabel('Percent of Missing Values', fontsize=15)\n",
    "plt.title('Attributes wiht Missing Values', fontsize=15)"
   ]
  },
  {
   "cell_type": "code",
   "execution_count": 13,
   "id": "a1cce34c",
   "metadata": {},
   "outputs": [
    {
     "data": {
      "text/plain": [
       "PassengerId      0\n",
       "Survived         0\n",
       "Pclass           0\n",
       "Sex              0\n",
       "Age            177\n",
       "SibSp            0\n",
       "Parch            0\n",
       "Fare             0\n",
       "Cabin          687\n",
       "Embarked         0\n",
       "dtype: int64"
      ]
     },
     "execution_count": 13,
     "metadata": {},
     "output_type": "execute_result"
    }
   ],
   "source": [
    "# For the embarked attribute, I'll simply drop the missing values as there a less than 5% observations\n",
    "# with missing values\n",
    "raw_data = raw_data[raw_data['Embarked'].notna()]\n",
    "raw_data.isnull().sum()"
   ]
  },
  {
   "cell_type": "code",
   "execution_count": 14,
   "id": "2fc51448",
   "metadata": {},
   "outputs": [
    {
     "data": {
      "text/plain": [
       "PassengerId      0\n",
       "Survived         0\n",
       "Pclass           0\n",
       "Sex              0\n",
       "Age            177\n",
       "SibSp            0\n",
       "Parch            0\n",
       "Fare             0\n",
       "Embarked         0\n",
       "dtype: int64"
      ]
     },
     "execution_count": 14,
     "metadata": {},
     "output_type": "execute_result"
    }
   ],
   "source": [
    "# For the attributes Age and Cabin, dropping the rows with missing values would cost a lot of data as \n",
    "# the rows with missing values for these are more than 5% of the observations. So the missing values \n",
    "# must be dealt in another way\n",
    "\n",
    "# For the attribute Cabin, althought I think that it's very significant, to avoid errors due to wrong\n",
    "# treatment to fill the missing values I'll drop the attribute... Also the attribute Pclass will\n",
    "# help to cover a good amount of explanatory power lost due to the loss of the cabin attribute. \n",
    "# when I try to improve the model, I'll deal with the attribute cabin with a better method\n",
    "\n",
    "raw_data = raw_data.drop(['Cabin'], axis=1)\n",
    "raw_data.isnull().sum()"
   ]
  },
  {
   "cell_type": "code",
   "execution_count": 15,
   "id": "ee238ace",
   "metadata": {},
   "outputs": [
    {
     "data": {
      "text/plain": [
       "0      22.0\n",
       "1      38.0\n",
       "2      26.0\n",
       "3      35.0\n",
       "4      35.0\n",
       "       ... \n",
       "886    27.0\n",
       "887    19.0\n",
       "888     NaN\n",
       "889    26.0\n",
       "890    32.0\n",
       "Name: Age, Length: 889, dtype: float64"
      ]
     },
     "execution_count": 15,
     "metadata": {},
     "output_type": "execute_result"
    }
   ],
   "source": [
    "# For the age attribute, I observed that there are althougt there are a lot of missing values, they don't \n",
    "# exceed 60% and the values are numerical, so I decided to fill the missing values\n",
    "\n",
    "# I'll fill the missing values with the mean instead of the median since, from my observation of the \n",
    "# descriptive statistics, there are no obvious outliers.\n",
    "\n",
    "raw_data['Age']"
   ]
  },
  {
   "cell_type": "code",
   "execution_count": 16,
   "id": "71980a6a",
   "metadata": {},
   "outputs": [
    {
     "data": {
      "text/plain": [
       "0      22.000000\n",
       "1      38.000000\n",
       "2      26.000000\n",
       "3      35.000000\n",
       "4      35.000000\n",
       "         ...    \n",
       "886    27.000000\n",
       "887    19.000000\n",
       "888    29.642093\n",
       "889    26.000000\n",
       "890    32.000000\n",
       "Name: Age, Length: 889, dtype: float64"
      ]
     },
     "execution_count": 16,
     "metadata": {},
     "output_type": "execute_result"
    }
   ],
   "source": [
    "raw_data['Age'] = raw_data['Age'].replace(np.NaN, raw_data['Age'].mean())\n",
    "raw_data['Age']"
   ]
  },
  {
   "cell_type": "code",
   "execution_count": 17,
   "id": "98a24ccd",
   "metadata": {},
   "outputs": [
    {
     "data": {
      "text/plain": [
       "PassengerId    0\n",
       "Survived       0\n",
       "Pclass         0\n",
       "Sex            0\n",
       "Age            0\n",
       "SibSp          0\n",
       "Parch          0\n",
       "Fare           0\n",
       "Embarked       0\n",
       "dtype: int64"
      ]
     },
     "execution_count": 17,
     "metadata": {},
     "output_type": "execute_result"
    }
   ],
   "source": [
    "raw_data.isnull().sum()"
   ]
  },
  {
   "cell_type": "code",
   "execution_count": 18,
   "id": "2e848488",
   "metadata": {},
   "outputs": [
    {
     "data": {
      "text/html": [
       "<div>\n",
       "<style scoped>\n",
       "    .dataframe tbody tr th:only-of-type {\n",
       "        vertical-align: middle;\n",
       "    }\n",
       "\n",
       "    .dataframe tbody tr th {\n",
       "        vertical-align: top;\n",
       "    }\n",
       "\n",
       "    .dataframe thead th {\n",
       "        text-align: right;\n",
       "    }\n",
       "</style>\n",
       "<table border=\"1\" class=\"dataframe\">\n",
       "  <thead>\n",
       "    <tr style=\"text-align: right;\">\n",
       "      <th></th>\n",
       "      <th>PassengerId</th>\n",
       "      <th>Survived</th>\n",
       "      <th>Pclass</th>\n",
       "      <th>Sex</th>\n",
       "      <th>Age</th>\n",
       "      <th>SibSp</th>\n",
       "      <th>Parch</th>\n",
       "      <th>Fare</th>\n",
       "      <th>Embarked</th>\n",
       "    </tr>\n",
       "  </thead>\n",
       "  <tbody>\n",
       "    <tr>\n",
       "      <th>count</th>\n",
       "      <td>889.000000</td>\n",
       "      <td>889.000000</td>\n",
       "      <td>889.000000</td>\n",
       "      <td>889</td>\n",
       "      <td>889.000000</td>\n",
       "      <td>889.000000</td>\n",
       "      <td>889.000000</td>\n",
       "      <td>889.000000</td>\n",
       "      <td>889</td>\n",
       "    </tr>\n",
       "    <tr>\n",
       "      <th>unique</th>\n",
       "      <td>NaN</td>\n",
       "      <td>NaN</td>\n",
       "      <td>NaN</td>\n",
       "      <td>2</td>\n",
       "      <td>NaN</td>\n",
       "      <td>NaN</td>\n",
       "      <td>NaN</td>\n",
       "      <td>NaN</td>\n",
       "      <td>3</td>\n",
       "    </tr>\n",
       "    <tr>\n",
       "      <th>top</th>\n",
       "      <td>NaN</td>\n",
       "      <td>NaN</td>\n",
       "      <td>NaN</td>\n",
       "      <td>male</td>\n",
       "      <td>NaN</td>\n",
       "      <td>NaN</td>\n",
       "      <td>NaN</td>\n",
       "      <td>NaN</td>\n",
       "      <td>S</td>\n",
       "    </tr>\n",
       "    <tr>\n",
       "      <th>freq</th>\n",
       "      <td>NaN</td>\n",
       "      <td>NaN</td>\n",
       "      <td>NaN</td>\n",
       "      <td>577</td>\n",
       "      <td>NaN</td>\n",
       "      <td>NaN</td>\n",
       "      <td>NaN</td>\n",
       "      <td>NaN</td>\n",
       "      <td>644</td>\n",
       "    </tr>\n",
       "    <tr>\n",
       "      <th>mean</th>\n",
       "      <td>446.000000</td>\n",
       "      <td>0.382452</td>\n",
       "      <td>2.311586</td>\n",
       "      <td>NaN</td>\n",
       "      <td>29.642093</td>\n",
       "      <td>0.524184</td>\n",
       "      <td>0.382452</td>\n",
       "      <td>32.096681</td>\n",
       "      <td>NaN</td>\n",
       "    </tr>\n",
       "    <tr>\n",
       "      <th>std</th>\n",
       "      <td>256.998173</td>\n",
       "      <td>0.486260</td>\n",
       "      <td>0.834700</td>\n",
       "      <td>NaN</td>\n",
       "      <td>12.968346</td>\n",
       "      <td>1.103705</td>\n",
       "      <td>0.806761</td>\n",
       "      <td>49.697504</td>\n",
       "      <td>NaN</td>\n",
       "    </tr>\n",
       "    <tr>\n",
       "      <th>min</th>\n",
       "      <td>1.000000</td>\n",
       "      <td>0.000000</td>\n",
       "      <td>1.000000</td>\n",
       "      <td>NaN</td>\n",
       "      <td>0.420000</td>\n",
       "      <td>0.000000</td>\n",
       "      <td>0.000000</td>\n",
       "      <td>0.000000</td>\n",
       "      <td>NaN</td>\n",
       "    </tr>\n",
       "    <tr>\n",
       "      <th>25%</th>\n",
       "      <td>224.000000</td>\n",
       "      <td>0.000000</td>\n",
       "      <td>2.000000</td>\n",
       "      <td>NaN</td>\n",
       "      <td>22.000000</td>\n",
       "      <td>0.000000</td>\n",
       "      <td>0.000000</td>\n",
       "      <td>7.895800</td>\n",
       "      <td>NaN</td>\n",
       "    </tr>\n",
       "    <tr>\n",
       "      <th>50%</th>\n",
       "      <td>446.000000</td>\n",
       "      <td>0.000000</td>\n",
       "      <td>3.000000</td>\n",
       "      <td>NaN</td>\n",
       "      <td>29.642093</td>\n",
       "      <td>0.000000</td>\n",
       "      <td>0.000000</td>\n",
       "      <td>14.454200</td>\n",
       "      <td>NaN</td>\n",
       "    </tr>\n",
       "    <tr>\n",
       "      <th>75%</th>\n",
       "      <td>668.000000</td>\n",
       "      <td>1.000000</td>\n",
       "      <td>3.000000</td>\n",
       "      <td>NaN</td>\n",
       "      <td>35.000000</td>\n",
       "      <td>1.000000</td>\n",
       "      <td>0.000000</td>\n",
       "      <td>31.000000</td>\n",
       "      <td>NaN</td>\n",
       "    </tr>\n",
       "    <tr>\n",
       "      <th>max</th>\n",
       "      <td>891.000000</td>\n",
       "      <td>1.000000</td>\n",
       "      <td>3.000000</td>\n",
       "      <td>NaN</td>\n",
       "      <td>80.000000</td>\n",
       "      <td>8.000000</td>\n",
       "      <td>6.000000</td>\n",
       "      <td>512.329200</td>\n",
       "      <td>NaN</td>\n",
       "    </tr>\n",
       "  </tbody>\n",
       "</table>\n",
       "</div>"
      ],
      "text/plain": [
       "        PassengerId    Survived      Pclass   Sex         Age       SibSp  \\\n",
       "count    889.000000  889.000000  889.000000   889  889.000000  889.000000   \n",
       "unique          NaN         NaN         NaN     2         NaN         NaN   \n",
       "top             NaN         NaN         NaN  male         NaN         NaN   \n",
       "freq            NaN         NaN         NaN   577         NaN         NaN   \n",
       "mean     446.000000    0.382452    2.311586   NaN   29.642093    0.524184   \n",
       "std      256.998173    0.486260    0.834700   NaN   12.968346    1.103705   \n",
       "min        1.000000    0.000000    1.000000   NaN    0.420000    0.000000   \n",
       "25%      224.000000    0.000000    2.000000   NaN   22.000000    0.000000   \n",
       "50%      446.000000    0.000000    3.000000   NaN   29.642093    0.000000   \n",
       "75%      668.000000    1.000000    3.000000   NaN   35.000000    1.000000   \n",
       "max      891.000000    1.000000    3.000000   NaN   80.000000    8.000000   \n",
       "\n",
       "             Parch        Fare Embarked  \n",
       "count   889.000000  889.000000      889  \n",
       "unique         NaN         NaN        3  \n",
       "top            NaN         NaN        S  \n",
       "freq           NaN         NaN      644  \n",
       "mean      0.382452   32.096681      NaN  \n",
       "std       0.806761   49.697504      NaN  \n",
       "min       0.000000    0.000000      NaN  \n",
       "25%       0.000000    7.895800      NaN  \n",
       "50%       0.000000   14.454200      NaN  \n",
       "75%       0.000000   31.000000      NaN  \n",
       "max       6.000000  512.329200      NaN  "
      ]
     },
     "execution_count": 18,
     "metadata": {},
     "output_type": "execute_result"
    }
   ],
   "source": [
    "# I'll create another variable for the data with no missing values \n",
    "data_no_mv = raw_data.copy()\n",
    "data_no_mv.describe(include='all')"
   ]
  },
  {
   "cell_type": "markdown",
   "id": "aa7c64e8",
   "metadata": {},
   "source": [
    "### Creating Dummies for categorical values"
   ]
  },
  {
   "cell_type": "code",
   "execution_count": 19,
   "id": "4a65be5a",
   "metadata": {},
   "outputs": [
    {
     "data": {
      "text/plain": [
       "array(['male', 'female'], dtype=object)"
      ]
     },
     "execution_count": 19,
     "metadata": {},
     "output_type": "execute_result"
    }
   ],
   "source": [
    "data_no_mv['Sex'].unique()"
   ]
  },
  {
   "cell_type": "code",
   "execution_count": 20,
   "id": "5373a6ea",
   "metadata": {},
   "outputs": [
    {
     "data": {
      "text/plain": [
       "array([1, 0], dtype=int64)"
      ]
     },
     "execution_count": 20,
     "metadata": {},
     "output_type": "execute_result"
    }
   ],
   "source": [
    "data_with_dummies = data_no_mv.copy()\n",
    "data_with_dummies['Sex'] = data_with_dummies['Sex'].map({'male':1, 'female':0})\n",
    "data_with_dummies['Sex'].unique()"
   ]
  },
  {
   "cell_type": "code",
   "execution_count": 21,
   "id": "6b9af9cc",
   "metadata": {},
   "outputs": [
    {
     "data": {
      "text/plain": [
       "array(['S', 'C', 'Q'], dtype=object)"
      ]
     },
     "execution_count": 21,
     "metadata": {},
     "output_type": "execute_result"
    }
   ],
   "source": [
    "data_with_dummies['Embarked'].unique()"
   ]
  },
  {
   "cell_type": "code",
   "execution_count": 22,
   "id": "b9a684cd",
   "metadata": {},
   "outputs": [
    {
     "data": {
      "text/plain": [
       "array([0, 1, 2], dtype=int64)"
      ]
     },
     "execution_count": 22,
     "metadata": {},
     "output_type": "execute_result"
    }
   ],
   "source": [
    "data_with_dummies['Embarked'] = data_with_dummies['Embarked'].map({'S':0, 'C':1, 'Q':2})\n",
    "data_with_dummies['Embarked'].unique()"
   ]
  },
  {
   "cell_type": "markdown",
   "id": "b37b68d2",
   "metadata": {},
   "source": [
    "### PDF plot\n",
    "#### To see if the data is normaly distributed and whether there are any obvious outliers"
   ]
  },
  {
   "cell_type": "code",
   "execution_count": 23,
   "id": "d6af4e00",
   "metadata": {
    "scrolled": true
   },
   "outputs": [
    {
     "name": "stderr",
     "output_type": "stream",
     "text": [
      "C:\\Users\\Munguambe\\anaconda3\\lib\\site-packages\\seaborn\\distributions.py:2619: FutureWarning: `distplot` is a deprecated function and will be removed in a future version. Please adapt your code to use either `displot` (a figure-level function with similar flexibility) or `histplot` (an axes-level function for histograms).\n",
      "  warnings.warn(msg, FutureWarning)\n"
     ]
    },
    {
     "data": {
      "text/plain": [
       "<AxesSubplot:xlabel='Age', ylabel='Density'>"
      ]
     },
     "execution_count": 23,
     "metadata": {},
     "output_type": "execute_result"
    },
    {
     "data": {
      "image/png": "[encoded data removed]",
      "text/plain": [
       "<Figure size 432x288 with 1 Axes>"
      ]
     },
     "metadata": {},
     "output_type": "display_data"
    }
   ],
   "source": [
    "# Plot the Age attribute to see if there are any observable anomaly in the distribution\n",
    "sns.distplot(data_with_dummies['Age'])"
   ]
  },
  {
   "cell_type": "markdown",
   "id": "1110cf39",
   "metadata": {},
   "source": [
    "#### For better analyses, I'll verify the skewness of all variables, and apply a log transformation for those that are above the treshold, that is, above 0.75"
   ]
  },
  {
   "cell_type": "code",
   "execution_count": 24,
   "id": "cf27a711",
   "metadata": {},
   "outputs": [
    {
     "data": {
      "image/png": "[encoded data removed]",
      "text/plain": [
       "<Figure size 576x432 with 1 Axes>"
      ]
     },
     "metadata": {},
     "output_type": "display_data"
    }
   ],
   "source": [
    "numerical_attributes = data_with_dummies.dtypes[data_with_dummies.dtypes != \"object\"].index\n",
    "# in this case, since I have already created the dummies, all attributes are numerical\n",
    "\n",
    "skewed_attributes = data_with_dummies[numerical_attributes].skew()\n",
    "skewness = pd.DataFrame({\"Variable\":skewed_attributes.index, \"Skewness\":skewed_attributes.values})\n",
    "skewness = skewness.sort_values('Skewness', ascending=[0])\n",
    "\n",
    "fig, ax = plt.subplots(figsize=(8,6))\n",
    "plt.xticks(rotation='90')\n",
    "sns.barplot(x=skewness['Variable'], y=skewness['Skewness'])\n",
    "plt.ylim(0,25)\n",
    "plt.xlabel('Numerical Variables', fontsize=15)\n",
    "plt.ylabel('Skewness', fontsize=15)\n",
    "plt.title('', fontsize=15)\n",
    "plt.show() # display the skewness of the attributes without the log transformation"
   ]
  },
  {
   "cell_type": "code",
   "execution_count": 25,
   "id": "ef4ebe2b",
   "metadata": {},
   "outputs": [
    {
     "data": {
      "image/png": "[encoded data removed]",
      "text/plain": [
       "<Figure size 576x432 with 1 Axes>"
      ]
     },
     "metadata": {},
     "output_type": "display_data"
    }
   ],
   "source": [
    "# Select the attributes with the skewness above the treshold, .75\n",
    "skewed_attributes = skewed_attributes[skewed_attributes > 0.75]\n",
    "data_with_dummies[skewed_attributes.index] = np.log1p(data_with_dummies[skewed_attributes.index])\n",
    "\n",
    "skewed_attributes = data_with_dummies[numerical_attributes].skew()\n",
    "skewness_new = pd.DataFrame({\"Variable\":skewed_attributes.index, \"Skewness\":skewed_attributes.values})\n",
    "# select the variables with a skewness above a certain threshold\n",
    "\n",
    "skewness_new = skewness_new.sort_values('Skewness', ascending=[0])\n",
    "\n",
    "fig, ax = plt.subplots(figsize=(8,6))\n",
    "plt.xticks(rotation='90')\n",
    "sns.barplot(x=skewness_new['Variable'], y=skewness_new['Skewness'])\n",
    "plt.ylim(0,25)\n",
    "plt.xlabel('Numerical Variables', fontsize=15)\n",
    "plt.ylabel('Skewness', fontsize=15)\n",
    "plt.title('', fontsize=15)\n",
    "plt.show() # display the plot of the skewness of the attributes after the log transformation"
   ]
  },
  {
   "cell_type": "markdown",
   "id": "7fe8dde4",
   "metadata": {},
   "source": [
    "### Correlation analysis"
   ]
  },
  {
   "cell_type": "code",
   "execution_count": 26,
   "id": "771f8361",
   "metadata": {},
   "outputs": [
    {
     "data": {
      "image/png": "[encoded data removed]",
      "text/plain": [
       "<Figure size 864x648 with 2 Axes>"
      ]
     },
     "metadata": {},
     "output_type": "display_data"
    }
   ],
   "source": [
    "corrmat = data_with_dummies.corr()\n",
    "plt.figure(figsize=(12,9))\n",
    "sns.heatmap(corrmat, vmax=0.9);"
   ]
  },
  {
   "cell_type": "markdown",
   "id": "8a2dfcf6",
   "metadata": {},
   "source": [
    "#### From the heatmap, it can be seen that wether a passenger survived or not has a lot to do with ther sex and their pclass (proxy for socio-economic status). Of course, other attributes are also correlated althought not so much."
   ]
  },
  {
   "cell_type": "code",
   "execution_count": 27,
   "id": "075e3304",
   "metadata": {
    "scrolled": false
   },
   "outputs": [
    {
     "name": "stderr",
     "output_type": "stream",
     "text": [
      "C:\\Users\\Munguambe\\anaconda3\\lib\\site-packages\\seaborn\\matrix.py:1214: UserWarning: ``square=True`` ignored in clustermap\n",
      "  warnings.warn(msg)\n"
     ]
    },
    {
     "data": {
      "text/plain": [
       "<Figure size 576x432 with 0 Axes>"
      ]
     },
     "metadata": {},
     "output_type": "display_data"
    },
    {
     "data": {
      "image/png": "[encoded data removed]",
      "text/plain": [
       "<Figure size 720x720 with 4 Axes>"
      ]
     },
     "metadata": {},
     "output_type": "display_data"
    }
   ],
   "source": [
    "plt.figure(figsize=(8,6))\n",
    "sns.clustermap(corrmat, vmax=0.9, square=True, annot=True, cmap=\"Blues\");"
   ]
  },
  {
   "cell_type": "markdown",
   "id": "29da504f",
   "metadata": {},
   "source": [
    "#### with the clustermap, it can be seen that the correlation between the attribute survived and the attributes age and pclass is inverse, which means that the lower the age and the pclass, the higher the chance of survivel"
   ]
  },
  {
   "cell_type": "code",
   "execution_count": 28,
   "id": "160df2aa",
   "metadata": {},
   "outputs": [
    {
     "data": {
      "text/html": [
       "<div>\n",
       "<style scoped>\n",
       "    .dataframe tbody tr th:only-of-type {\n",
       "        vertical-align: middle;\n",
       "    }\n",
       "\n",
       "    .dataframe tbody tr th {\n",
       "        vertical-align: top;\n",
       "    }\n",
       "\n",
       "    .dataframe thead th {\n",
       "        text-align: right;\n",
       "    }\n",
       "</style>\n",
       "<table border=\"1\" class=\"dataframe\">\n",
       "  <thead>\n",
       "    <tr style=\"text-align: right;\">\n",
       "      <th></th>\n",
       "      <th>PassengerId</th>\n",
       "      <th>Survived</th>\n",
       "      <th>Pclass</th>\n",
       "      <th>Sex</th>\n",
       "      <th>Age</th>\n",
       "      <th>SibSp</th>\n",
       "      <th>Parch</th>\n",
       "      <th>Fare</th>\n",
       "      <th>Embarked</th>\n",
       "    </tr>\n",
       "  </thead>\n",
       "  <tbody>\n",
       "    <tr>\n",
       "      <th>count</th>\n",
       "      <td>889.000000</td>\n",
       "      <td>889.000000</td>\n",
       "      <td>889.000000</td>\n",
       "      <td>889.000000</td>\n",
       "      <td>889.000000</td>\n",
       "      <td>889.000000</td>\n",
       "      <td>889.000000</td>\n",
       "      <td>889.000000</td>\n",
       "      <td>889.000000</td>\n",
       "    </tr>\n",
       "    <tr>\n",
       "      <th>mean</th>\n",
       "      <td>446.000000</td>\n",
       "      <td>0.382452</td>\n",
       "      <td>2.311586</td>\n",
       "      <td>0.649044</td>\n",
       "      <td>29.642093</td>\n",
       "      <td>0.282473</td>\n",
       "      <td>0.218171</td>\n",
       "      <td>2.959024</td>\n",
       "      <td>0.226144</td>\n",
       "    </tr>\n",
       "    <tr>\n",
       "      <th>std</th>\n",
       "      <td>256.998173</td>\n",
       "      <td>0.486260</td>\n",
       "      <td>0.834700</td>\n",
       "      <td>0.477538</td>\n",
       "      <td>12.968346</td>\n",
       "      <td>0.463165</td>\n",
       "      <td>0.412014</td>\n",
       "      <td>0.967750</td>\n",
       "      <td>0.379940</td>\n",
       "    </tr>\n",
       "    <tr>\n",
       "      <th>min</th>\n",
       "      <td>1.000000</td>\n",
       "      <td>0.000000</td>\n",
       "      <td>1.000000</td>\n",
       "      <td>0.000000</td>\n",
       "      <td>0.420000</td>\n",
       "      <td>0.000000</td>\n",
       "      <td>0.000000</td>\n",
       "      <td>0.000000</td>\n",
       "      <td>0.000000</td>\n",
       "    </tr>\n",
       "    <tr>\n",
       "      <th>25%</th>\n",
       "      <td>224.000000</td>\n",
       "      <td>0.000000</td>\n",
       "      <td>2.000000</td>\n",
       "      <td>0.000000</td>\n",
       "      <td>22.000000</td>\n",
       "      <td>0.000000</td>\n",
       "      <td>0.000000</td>\n",
       "      <td>2.185579</td>\n",
       "      <td>0.000000</td>\n",
       "    </tr>\n",
       "    <tr>\n",
       "      <th>50%</th>\n",
       "      <td>446.000000</td>\n",
       "      <td>0.000000</td>\n",
       "      <td>3.000000</td>\n",
       "      <td>1.000000</td>\n",
       "      <td>29.642093</td>\n",
       "      <td>0.000000</td>\n",
       "      <td>0.000000</td>\n",
       "      <td>2.737881</td>\n",
       "      <td>0.000000</td>\n",
       "    </tr>\n",
       "    <tr>\n",
       "      <th>75%</th>\n",
       "      <td>668.000000</td>\n",
       "      <td>1.000000</td>\n",
       "      <td>3.000000</td>\n",
       "      <td>1.000000</td>\n",
       "      <td>35.000000</td>\n",
       "      <td>0.693147</td>\n",
       "      <td>0.000000</td>\n",
       "      <td>3.465736</td>\n",
       "      <td>0.693147</td>\n",
       "    </tr>\n",
       "    <tr>\n",
       "      <th>max</th>\n",
       "      <td>891.000000</td>\n",
       "      <td>1.000000</td>\n",
       "      <td>3.000000</td>\n",
       "      <td>1.000000</td>\n",
       "      <td>80.000000</td>\n",
       "      <td>2.197225</td>\n",
       "      <td>1.945910</td>\n",
       "      <td>6.240917</td>\n",
       "      <td>1.098612</td>\n",
       "    </tr>\n",
       "  </tbody>\n",
       "</table>\n",
       "</div>"
      ],
      "text/plain": [
       "       PassengerId    Survived      Pclass         Sex         Age  \\\n",
       "count   889.000000  889.000000  889.000000  889.000000  889.000000   \n",
       "mean    446.000000    0.382452    2.311586    0.649044   29.642093   \n",
       "std     256.998173    0.486260    0.834700    0.477538   12.968346   \n",
       "min       1.000000    0.000000    1.000000    0.000000    0.420000   \n",
       "25%     224.000000    0.000000    2.000000    0.000000   22.000000   \n",
       "50%     446.000000    0.000000    3.000000    1.000000   29.642093   \n",
       "75%     668.000000    1.000000    3.000000    1.000000   35.000000   \n",
       "max     891.000000    1.000000    3.000000    1.000000   80.000000   \n",
       "\n",
       "            SibSp       Parch        Fare    Embarked  \n",
       "count  889.000000  889.000000  889.000000  889.000000  \n",
       "mean     0.282473    0.218171    2.959024    0.226144  \n",
       "std      0.463165    0.412014    0.967750    0.379940  \n",
       "min      0.000000    0.000000    0.000000    0.000000  \n",
       "25%      0.000000    0.000000    2.185579    0.000000  \n",
       "50%      0.000000    0.000000    2.737881    0.000000  \n",
       "75%      0.693147    0.000000    3.465736    0.693147  \n",
       "max      2.197225    1.945910    6.240917    1.098612  "
      ]
     },
     "execution_count": 28,
     "metadata": {},
     "output_type": "execute_result"
    }
   ],
   "source": [
    "# get the summary to see if all data is numerical\n",
    "data_with_dummies.describe()"
   ]
  },
  {
   "cell_type": "code",
   "execution_count": 29,
   "id": "4e5bce2a",
   "metadata": {},
   "outputs": [
    {
     "data": {
      "text/html": [
       "<div>\n",
       "<style scoped>\n",
       "    .dataframe tbody tr th:only-of-type {\n",
       "        vertical-align: middle;\n",
       "    }\n",
       "\n",
       "    .dataframe tbody tr th {\n",
       "        vertical-align: top;\n",
       "    }\n",
       "\n",
       "    .dataframe thead th {\n",
       "        text-align: right;\n",
       "    }\n",
       "</style>\n",
       "<table border=\"1\" class=\"dataframe\">\n",
       "  <thead>\n",
       "    <tr style=\"text-align: right;\">\n",
       "      <th></th>\n",
       "      <th>PassengerId</th>\n",
       "      <th>Survived</th>\n",
       "      <th>Pclass</th>\n",
       "      <th>Sex</th>\n",
       "      <th>Age</th>\n",
       "      <th>SibSp</th>\n",
       "      <th>Parch</th>\n",
       "      <th>Fare</th>\n",
       "      <th>Embarked</th>\n",
       "    </tr>\n",
       "  </thead>\n",
       "  <tbody>\n",
       "    <tr>\n",
       "      <th>0</th>\n",
       "      <td>1</td>\n",
       "      <td>0</td>\n",
       "      <td>3</td>\n",
       "      <td>1</td>\n",
       "      <td>22.0</td>\n",
       "      <td>0.693147</td>\n",
       "      <td>0.0</td>\n",
       "      <td>2.110213</td>\n",
       "      <td>0.000000</td>\n",
       "    </tr>\n",
       "    <tr>\n",
       "      <th>1</th>\n",
       "      <td>2</td>\n",
       "      <td>1</td>\n",
       "      <td>1</td>\n",
       "      <td>0</td>\n",
       "      <td>38.0</td>\n",
       "      <td>0.693147</td>\n",
       "      <td>0.0</td>\n",
       "      <td>4.280593</td>\n",
       "      <td>0.693147</td>\n",
       "    </tr>\n",
       "    <tr>\n",
       "      <th>2</th>\n",
       "      <td>3</td>\n",
       "      <td>1</td>\n",
       "      <td>3</td>\n",
       "      <td>0</td>\n",
       "      <td>26.0</td>\n",
       "      <td>0.000000</td>\n",
       "      <td>0.0</td>\n",
       "      <td>2.188856</td>\n",
       "      <td>0.000000</td>\n",
       "    </tr>\n",
       "    <tr>\n",
       "      <th>3</th>\n",
       "      <td>4</td>\n",
       "      <td>1</td>\n",
       "      <td>1</td>\n",
       "      <td>0</td>\n",
       "      <td>35.0</td>\n",
       "      <td>0.693147</td>\n",
       "      <td>0.0</td>\n",
       "      <td>3.990834</td>\n",
       "      <td>0.000000</td>\n",
       "    </tr>\n",
       "    <tr>\n",
       "      <th>4</th>\n",
       "      <td>5</td>\n",
       "      <td>0</td>\n",
       "      <td>3</td>\n",
       "      <td>1</td>\n",
       "      <td>35.0</td>\n",
       "      <td>0.000000</td>\n",
       "      <td>0.0</td>\n",
       "      <td>2.202765</td>\n",
       "      <td>0.000000</td>\n",
       "    </tr>\n",
       "  </tbody>\n",
       "</table>\n",
       "</div>"
      ],
      "text/plain": [
       "   PassengerId  Survived  Pclass  Sex   Age     SibSp  Parch      Fare  \\\n",
       "0            1         0       3    1  22.0  0.693147    0.0  2.110213   \n",
       "1            2         1       1    0  38.0  0.693147    0.0  4.280593   \n",
       "2            3         1       3    0  26.0  0.000000    0.0  2.188856   \n",
       "3            4         1       1    0  35.0  0.693147    0.0  3.990834   \n",
       "4            5         0       3    1  35.0  0.000000    0.0  2.202765   \n",
       "\n",
       "   Embarked  \n",
       "0  0.000000  \n",
       "1  0.693147  \n",
       "2  0.000000  \n",
       "3  0.000000  \n",
       "4  0.000000  "
      ]
     },
     "execution_count": 29,
     "metadata": {},
     "output_type": "execute_result"
    }
   ],
   "source": [
    "# Store the data in the variable data_cleaned\n",
    "data_cleaned = data_with_dummies.copy()\n",
    "data_cleaned.head()"
   ]
  },
  {
   "cell_type": "code",
   "execution_count": 30,
   "id": "ac74900e",
   "metadata": {},
   "outputs": [],
   "source": [
    "data_cleaned.to_csv('./train_cleaned.csv')"
   ]
  },
  {
   "cell_type": "markdown",
   "id": "1b3a4bdb",
   "metadata": {},
   "source": [
    "# Declare the targets and inputs"
   ]
  },
  {
   "cell_type": "code",
   "execution_count": 31,
   "id": "e8d5ce20",
   "metadata": {},
   "outputs": [
    {
     "data": {
      "text/plain": [
       "(889,)"
      ]
     },
     "execution_count": 31,
     "metadata": {},
     "output_type": "execute_result"
    }
   ],
   "source": [
    "targets = data_cleaned['Survived']\n",
    "targets.shape"
   ]
  },
  {
   "cell_type": "code",
   "execution_count": 32,
   "id": "79d083eb",
   "metadata": {
    "scrolled": true
   },
   "outputs": [
    {
     "data": {
      "text/plain": [
       "Index(['PassengerId', 'Pclass', 'Sex', 'Age', 'SibSp', 'Parch', 'Fare',\n",
       "       'Embarked'],\n",
       "      dtype='object')"
      ]
     },
     "execution_count": 32,
     "metadata": {},
     "output_type": "execute_result"
    }
   ],
   "source": [
    "inputs = data_cleaned.drop(['Survived'], axis=1)\n",
    "inputs.columns"
   ]
  },
  {
   "cell_type": "markdown",
   "id": "28247916",
   "metadata": {},
   "source": [
    "### Feature Selection with f_regression"
   ]
  },
  {
   "cell_type": "code",
   "execution_count": 33,
   "id": "f08a73db",
   "metadata": {},
   "outputs": [
    {
     "data": {
      "text/plain": [
       "(array([2.24274791e-02, 1.12541402e+02, 3.68154732e+02, 4.95231518e+00,\n",
       "        8.66268211e-01, 1.22583535e+01, 1.06232759e+02, 1.41141897e+01]),\n",
       " array([8.80989537e-01, 7.77691629e-25, 6.68201214e-69, 2.63064961e-02,\n",
       "        3.52243742e-01, 4.86276759e-04, 1.32207458e-23, 1.83278746e-04]))"
      ]
     },
     "execution_count": 33,
     "metadata": {},
     "output_type": "execute_result"
    }
   ],
   "source": [
    "# I'll be using f_regression for feature selection because I want to test the explanatore power of each\n",
    "# attribute in relation to the target...\n",
    "\n",
    "from sklearn.feature_selection import f_regression\n",
    "f_regression(inputs, targets)\n",
    "# this will return the f-statistics and the respective p-values\n",
    "# If an attribte p-value is higher than 0.05, I'll disregard it"
   ]
  },
  {
   "cell_type": "code",
   "execution_count": 34,
   "id": "8b0ceeb1",
   "metadata": {},
   "outputs": [
    {
     "data": {
      "text/plain": [
       "array([0.881, 0.   , 0.   , 0.026, 0.352, 0.   , 0.   , 0.   ])"
      ]
     },
     "execution_count": 34,
     "metadata": {},
     "output_type": "execute_result"
    }
   ],
   "source": [
    "p_values = f_regression(inputs, targets)[1]\n",
    "p_values.round(3)"
   ]
  },
  {
   "cell_type": "code",
   "execution_count": 35,
   "id": "2117e156",
   "metadata": {},
   "outputs": [
    {
     "data": {
      "text/plain": [
       "Index(['PassengerId', 'Pclass', 'Sex', 'Age', 'SibSp', 'Parch', 'Fare',\n",
       "       'Embarked'],\n",
       "      dtype='object')"
      ]
     },
     "execution_count": 35,
     "metadata": {},
     "output_type": "execute_result"
    }
   ],
   "source": [
    "inputs.columns"
   ]
  },
  {
   "cell_type": "code",
   "execution_count": 36,
   "id": "46864cdf",
   "metadata": {
    "scrolled": true
   },
   "outputs": [
    {
     "data": {
      "text/html": [
       "<div>\n",
       "<style scoped>\n",
       "    .dataframe tbody tr th:only-of-type {\n",
       "        vertical-align: middle;\n",
       "    }\n",
       "\n",
       "    .dataframe tbody tr th {\n",
       "        vertical-align: top;\n",
       "    }\n",
       "\n",
       "    .dataframe thead th {\n",
       "        text-align: right;\n",
       "    }\n",
       "</style>\n",
       "<table border=\"1\" class=\"dataframe\">\n",
       "  <thead>\n",
       "    <tr style=\"text-align: right;\">\n",
       "      <th></th>\n",
       "      <th>Features</th>\n",
       "      <th>p-values</th>\n",
       "    </tr>\n",
       "  </thead>\n",
       "  <tbody>\n",
       "    <tr>\n",
       "      <th>0</th>\n",
       "      <td>PassengerId</td>\n",
       "      <td>0.881</td>\n",
       "    </tr>\n",
       "    <tr>\n",
       "      <th>1</th>\n",
       "      <td>Pclass</td>\n",
       "      <td>0.000</td>\n",
       "    </tr>\n",
       "    <tr>\n",
       "      <th>2</th>\n",
       "      <td>Sex</td>\n",
       "      <td>0.000</td>\n",
       "    </tr>\n",
       "    <tr>\n",
       "      <th>3</th>\n",
       "      <td>Age</td>\n",
       "      <td>0.026</td>\n",
       "    </tr>\n",
       "    <tr>\n",
       "      <th>4</th>\n",
       "      <td>SibSp</td>\n",
       "      <td>0.352</td>\n",
       "    </tr>\n",
       "    <tr>\n",
       "      <th>5</th>\n",
       "      <td>Parch</td>\n",
       "      <td>0.000</td>\n",
       "    </tr>\n",
       "    <tr>\n",
       "      <th>6</th>\n",
       "      <td>Fare</td>\n",
       "      <td>0.000</td>\n",
       "    </tr>\n",
       "    <tr>\n",
       "      <th>7</th>\n",
       "      <td>Embarked</td>\n",
       "      <td>0.000</td>\n",
       "    </tr>\n",
       "  </tbody>\n",
       "</table>\n",
       "</div>"
      ],
      "text/plain": [
       "      Features  p-values\n",
       "0  PassengerId     0.881\n",
       "1       Pclass     0.000\n",
       "2          Sex     0.000\n",
       "3          Age     0.026\n",
       "4        SibSp     0.352\n",
       "5        Parch     0.000\n",
       "6         Fare     0.000\n",
       "7     Embarked     0.000"
      ]
     },
     "execution_count": 36,
     "metadata": {},
     "output_type": "execute_result"
    }
   ],
   "source": [
    "f_reg_summary = pd.DataFrame(data=inputs.columns, columns=['Features'])\n",
    "f_reg_summary['p-values'] = p_values.round(3)\n",
    "f_reg_summary"
   ]
  },
  {
   "cell_type": "code",
   "execution_count": 37,
   "id": "21e0fac5",
   "metadata": {},
   "outputs": [],
   "source": [
    "# The results show that the PassengerId and SibSp can be disregarded as they aren't significante for my target\n",
    "inputs = inputs.drop(['PassengerId','SibSp'],axis=1)"
   ]
  },
  {
   "cell_type": "markdown",
   "id": "07586a74",
   "metadata": {},
   "source": [
    "# The Dataset ready for split"
   ]
  },
  {
   "cell_type": "code",
   "execution_count": 38,
   "id": "57a2a7ac",
   "metadata": {},
   "outputs": [
    {
     "name": "stdout",
     "output_type": "stream",
     "text": [
      "Number of examples:  889\n",
      "Number of variables: 889\n",
      "Variable names:      Index(['Pclass', 'Sex', 'Age', 'Parch', 'Fare', 'Embarked'], dtype='object')\n",
      "Target values:       [0 1]\n",
      "Class Distribution   [(0, 549), (1, 340)]\n"
     ]
    }
   ],
   "source": [
    "print(\"Number of examples: \", inputs.shape[0])\n",
    "print(\"Number of variables:\", inputs.shape[0])\n",
    "print(\"Variable names:     \", inputs.columns)\n",
    "print(\"Target values:      \", targets.unique())\n",
    "print(\"Class Distribution  \", [(x,sum(targets==x)) for x in np.unique(targets)])"
   ]
  },
  {
   "cell_type": "markdown",
   "id": "8b4e8f93",
   "metadata": {},
   "source": [
    "# Plot each input against the target"
   ]
  },
  {
   "cell_type": "code",
   "execution_count": 39,
   "id": "56f3d576",
   "metadata": {
    "scrolled": true
   },
   "outputs": [
    {
     "data": {
      "text/plain": [
       "Text(0.5, 1.0, 'Survived and Embarked')"
      ]
     },
     "execution_count": 39,
     "metadata": {},
     "output_type": "execute_result"
    },
    {
     "data": {
      "image/png": "[encoded data removed]",
      "text/plain": [
       "<Figure size 1080x1080 with 6 Axes>"
      ]
     },
     "metadata": {},
     "output_type": "display_data"
    }
   ],
   "source": [
    "fig, ((ax1,ax2),(ax3,ax4),(ax5,ax6)) = plt.subplots(nrows=3,ncols=2, sharey=True, figsize =(15,15)) # share survived as y\n",
    "ax1.scatter(data_cleaned['Pclass'],data_cleaned['Survived'])\n",
    "ax1.set_title('Survived and Pclass')\n",
    "ax2.scatter(data_cleaned['Sex'],data_cleaned['Survived'])\n",
    "ax2.set_title('Survived and Sex')\n",
    "ax3.scatter(data_cleaned['Age'],data_cleaned['Survived'])\n",
    "ax3.set_title('Survived and Age')\n",
    "ax4.scatter(data_cleaned['Parch'],data_cleaned['Survived'])\n",
    "ax4.set_title('Survived and Parch')\n",
    "ax5.scatter(data_cleaned['Fare'],data_cleaned['Survived'])\n",
    "ax5.set_title('Survived and Fare')\n",
    "ax6.scatter(data_cleaned['Embarked'],data_cleaned['Survived'])\n",
    "ax6.set_title('Survived and Embarked')"
   ]
  },
  {
   "cell_type": "markdown",
   "id": "043ff2ad",
   "metadata": {},
   "source": [
    "### Normalize the inputs"
   ]
  },
  {
   "cell_type": "code",
   "execution_count": 40,
   "id": "7ade278e",
   "metadata": {
    "scrolled": true
   },
   "outputs": [
    {
     "data": {
      "text/plain": [
       "array([[ 8.25208629e-01,  7.35342031e-01, -5.89619855e-01,\n",
       "        -5.29822060e-01, -8.77590935e-01, -5.95544194e-01],\n",
       "       [-1.57221121e+00, -1.35991138e+00,  6.44847987e-01,\n",
       "        -5.29822060e-01,  1.36637963e+00,  1.22984173e+00],\n",
       "       [ 8.25208629e-01, -1.35991138e+00, -2.81002895e-01,\n",
       "        -5.29822060e-01, -7.96281271e-01, -5.95544194e-01],\n",
       "       ...,\n",
       "       [ 8.25208629e-01, -1.35991138e+00, -5.48213849e-16,\n",
       "         2.13812299e+00,  2.45663007e-01, -5.95544194e-01],\n",
       "       [-1.57221121e+00,  7.35342031e-01, -2.81002895e-01,\n",
       "        -5.29822060e-01,  4.91068011e-01,  1.22984173e+00],\n",
       "       [ 8.25208629e-01,  7.35342031e-01,  1.81922546e-01,\n",
       "        -5.29822060e-01, -8.16755342e-01,  2.29762404e+00]])"
      ]
     },
     "execution_count": 40,
     "metadata": {},
     "output_type": "execute_result"
    }
   ],
   "source": [
    "from sklearn.preprocessing import StandardScaler\n",
    "scaler = StandardScaler()\n",
    "scaler.fit(inputs)\n",
    "inputs_scaled = scaler.transform(inputs)\n",
    "inputs_scaled"
   ]
  },
  {
   "cell_type": "markdown",
   "id": "0c8d802b",
   "metadata": {},
   "source": [
    "### Split the data into train and test"
   ]
  },
  {
   "cell_type": "code",
   "execution_count": 41,
   "id": "37291f1b",
   "metadata": {},
   "outputs": [],
   "source": [
    "from sklearn.model_selection import train_test_split\n",
    "\n",
    "# I'll split 20% for test and 80% for train\n",
    "x_train, x_test, y_train, y_test = train_test_split(inputs_scaled, targets, test_size=0.2, random_state=365)"
   ]
  },
  {
   "cell_type": "markdown",
   "id": "bac8600e",
   "metadata": {},
   "source": [
    "# Build and Train the Model"
   ]
  },
  {
   "cell_type": "code",
   "execution_count": 42,
   "id": "4ca8e3a0",
   "metadata": {},
   "outputs": [],
   "source": [
    "def get_model_evaluation(true_value, prediction):\n",
    "    # this model will return the evaluation based on the predicted and actual targets\n",
    "    accuracy = sum(true_value==prediction)/(sum(true_value==prediction) + sum(true_value!=prediction))*100\n",
    "    precision = abs(sum(prediction==0)-sum(prediction!=true_value))/(abs(sum(prediction==0)-sum(prediction!=true_value))+abs(sum(prediction==0)-sum(prediction==true_value)))\n",
    "    recall = abs(sum(prediction==0)-sum(prediction!=true_value))/(abs(sum(prediction==0)-sum(prediction!=true_value))+abs(sum(prediction==1)-sum(prediction==true_value)))\n",
    "    f1_measure = 2*precision*recall/(recall+precision)\n",
    "\n",
    "    return f'Accuracy: {accuracy}\\nPrecision: {precision}\\nRecall: {recall}\\nF1-measure: {f1_measure}'"
   ]
  },
  {
   "cell_type": "markdown",
   "id": "fd0ad38a",
   "metadata": {},
   "source": [
    "## Logistic Regression"
   ]
  },
  {
   "cell_type": "code",
   "execution_count": 43,
   "id": "b776bc7c",
   "metadata": {
    "scrolled": true
   },
   "outputs": [
    {
     "data": {
      "text/plain": [
       "LogisticRegression(C=100000000000.0, random_state=1234)"
      ]
     },
     "execution_count": 43,
     "metadata": {},
     "output_type": "execute_result"
    }
   ],
   "source": [
    "# Create the model\n",
    "reg_logistic = linear_model.LogisticRegression(C=10e10, random_state=1234)\n",
    "\n",
    "# Fit the model\n",
    "reg_logistic.fit(x_train,y_train)"
   ]
  },
  {
   "cell_type": "code",
   "execution_count": 49,
   "id": "4ced0ed5",
   "metadata": {
    "scrolled": false
   },
   "outputs": [
    {
     "data": {
      "text/plain": [
       "array([1, 0, 0, 0, 1, 0, 0, 0, 1, 1, 0, 0, 1, 0, 1, 1, 0, 0, 1, 1, 1, 0,\n",
       "       0, 0, 0, 0, 0, 0, 0, 1, 0, 1, 0, 0, 0, 0, 0, 0, 1, 0, 0, 1, 1, 0,\n",
       "       0, 1, 0, 0, 0, 0, 0, 0, 0, 1, 0, 0, 0, 0, 1, 0, 0, 0, 0, 0, 0, 0,\n",
       "       0, 1, 0, 0, 1, 0, 1, 1, 0, 0, 1, 0, 1, 1, 0, 0, 1, 1, 0, 1, 0, 0,\n",
       "       0, 1, 0, 0, 0, 0, 1, 1, 0, 1, 0, 1, 1, 0, 0, 1, 1, 0, 0, 1, 0, 0,\n",
       "       1, 1, 0, 1, 0, 0, 0, 1, 0, 1, 0, 0, 0, 0, 0, 0, 0, 0, 0, 1, 0, 0,\n",
       "       0, 0, 0, 0, 1, 0, 0, 1, 0, 0, 0, 1, 0, 0, 0, 0, 1, 1, 0, 0, 0, 0,\n",
       "       1, 0, 0, 1, 0, 0, 0, 1, 0, 0, 0, 0, 0, 1, 1, 0, 0, 0, 0, 0, 1, 0,\n",
       "       0, 0], dtype=int64)"
      ]
     },
     "execution_count": 49,
     "metadata": {},
     "output_type": "execute_result"
    }
   ],
   "source": [
    "# Predict using the model\n",
    "y_hat = reg_logistic.predict(x_test)\n",
    "y_hat"
   ]
  },
  {
   "cell_type": "code",
   "execution_count": 50,
   "id": "bbbc9eba",
   "metadata": {},
   "outputs": [
    {
     "data": {
      "text/plain": [
       "(178,)"
      ]
     },
     "execution_count": 50,
     "metadata": {},
     "output_type": "execute_result"
    }
   ],
   "source": [
    "y_test.shape"
   ]
  },
  {
   "cell_type": "markdown",
   "id": "a460f0e1",
   "metadata": {},
   "source": [
    "# Results"
   ]
  },
  {
   "cell_type": "code",
   "execution_count": 51,
   "id": "7d6898c0",
   "metadata": {
    "scrolled": true
   },
   "outputs": [
    {
     "data": {
      "text/plain": [
       "array([[-0.91341264, -1.22351981, -0.44651605, -0.16395656,  0.06005394,\n",
       "         0.24106284]])"
      ]
     },
     "execution_count": 51,
     "metadata": {},
     "output_type": "execute_result"
    }
   ],
   "source": [
    "# Get the weights\n",
    "reg_logistic.coef_"
   ]
  },
  {
   "cell_type": "code",
   "execution_count": 52,
   "id": "84a3b3ea",
   "metadata": {
    "scrolled": true
   },
   "outputs": [
    {
     "data": {
      "text/html": [
       "<div>\n",
       "<style scoped>\n",
       "    .dataframe tbody tr th:only-of-type {\n",
       "        vertical-align: middle;\n",
       "    }\n",
       "\n",
       "    .dataframe tbody tr th {\n",
       "        vertical-align: top;\n",
       "    }\n",
       "\n",
       "    .dataframe thead th {\n",
       "        text-align: right;\n",
       "    }\n",
       "</style>\n",
       "<table border=\"1\" class=\"dataframe\">\n",
       "  <thead>\n",
       "    <tr style=\"text-align: right;\">\n",
       "      <th></th>\n",
       "      <th>Features</th>\n",
       "      <th>Weights</th>\n",
       "    </tr>\n",
       "  </thead>\n",
       "  <tbody>\n",
       "    <tr>\n",
       "      <th>0</th>\n",
       "      <td>Pclass</td>\n",
       "      <td>-0.913413</td>\n",
       "    </tr>\n",
       "    <tr>\n",
       "      <th>1</th>\n",
       "      <td>Sex</td>\n",
       "      <td>-1.223520</td>\n",
       "    </tr>\n",
       "    <tr>\n",
       "      <th>2</th>\n",
       "      <td>Age</td>\n",
       "      <td>-0.446516</td>\n",
       "    </tr>\n",
       "    <tr>\n",
       "      <th>3</th>\n",
       "      <td>Parch</td>\n",
       "      <td>-0.163957</td>\n",
       "    </tr>\n",
       "    <tr>\n",
       "      <th>4</th>\n",
       "      <td>Fare</td>\n",
       "      <td>0.060054</td>\n",
       "    </tr>\n",
       "    <tr>\n",
       "      <th>5</th>\n",
       "      <td>Embarked</td>\n",
       "      <td>0.241063</td>\n",
       "    </tr>\n",
       "  </tbody>\n",
       "</table>\n",
       "</div>"
      ],
      "text/plain": [
       "   Features   Weights\n",
       "0    Pclass -0.913413\n",
       "1       Sex -1.223520\n",
       "2       Age -0.446516\n",
       "3     Parch -0.163957\n",
       "4      Fare  0.060054\n",
       "5  Embarked  0.241063"
      ]
     },
     "execution_count": 52,
     "metadata": {},
     "output_type": "execute_result"
    }
   ],
   "source": [
    "# Create a regression summary where we can compare them with one-another\n",
    "reg_summary = pd.DataFrame(inputs.columns.values, columns=['Features'])\n",
    "reg_summary['Weights'] = reg_logistic.coef_[0]\n",
    "reg_summary"
   ]
  },
  {
   "cell_type": "markdown",
   "id": "5677475d",
   "metadata": {},
   "source": [
    "From the weights of each feature, I can observe that the higher the values of the attributes Pclass, Sex, Age, and Parch, the lower the chance of survivel. While, the higher the values of the Fare and Embarked attributes the higher the chance of survivel."
   ]
  },
  {
   "cell_type": "code",
   "execution_count": 53,
   "id": "31342d7f",
   "metadata": {
    "scrolled": true
   },
   "outputs": [
    {
     "name": "stdout",
     "output_type": "stream",
     "text": [
      "Train Evaluation:\n",
      "Accuracy: 79.32489451476793\n",
      "Precision: 0.7434052757793765\n",
      "Recall: 0.5\n",
      "F1-measure: 0.5978784956605593\n",
      "==================\n",
      "Test Evaluation:\n",
      "Accuracy: 82.58426966292134\n",
      "Precision: 0.8017241379310345\n",
      "Recall: 0.5\n",
      "F1-measure: 0.6158940397350994\n"
     ]
    }
   ],
   "source": [
    "# get the evaluation of the model\n",
    "print(f'Train Evaluation:\\n{get_model_evaluation(y_train,reg_logistic.predict(x_train))}\\n==================\\nTest Evaluation:\\n{get_model_evaluation(y_test,y_hat)}')"
   ]
  },
  {
   "cell_type": "markdown",
   "id": "2eaf761b",
   "metadata": {},
   "source": [
    "Since the test accuracy is higher than the train accuracy, I can affirm that there was no underfit nor overfit"
   ]
  },
  {
   "cell_type": "markdown",
   "id": "0340b041",
   "metadata": {},
   "source": [
    "#### Logistic Regression with cross validation"
   ]
  },
  {
   "cell_type": "code",
   "execution_count": 59,
   "id": "e8af6826",
   "metadata": {
    "scrolled": false
   },
   "outputs": [
    {
     "name": "stdout",
     "output_type": "stream",
     "text": [
      "Accuracy: 79.19253475528471%\n"
     ]
    }
   ],
   "source": [
    "from sklearn.model_selection import KFold\n",
    "from sklearn.model_selection import cross_val_score\n",
    "\n",
    "# folds for K-fold cross-validation\n",
    "k_fold = KFold(n_splits=5,random_state=0,shuffle=True)\n",
    "# Create the model\n",
    "model = linear_model.LogisticRegression(solver='liblinear')\n",
    "results = cross_val_score(model,inputs_scaled,targets,cv=k_fold)\n",
    "print(f'Accuracy: {results.mean()*100}%')"
   ]
  },
  {
   "cell_type": "markdown",
   "id": "273a03f9",
   "metadata": {},
   "source": [
    "The accuracy is not much diferent from the one obtained previosly"
   ]
  },
  {
   "cell_type": "markdown",
   "id": "d5b7311e",
   "metadata": {},
   "source": [
    "## Decision Tree"
   ]
  },
  {
   "cell_type": "code",
   "execution_count": 49,
   "id": "ac4b34db",
   "metadata": {},
   "outputs": [],
   "source": [
    "from sklearn.tree import DecisionTreeClassifier\n",
    "\n",
    "# create the model and fit the data\n",
    "decision_tree = DecisionTreeClassifier().fit(x_train, y_train)\n",
    "tree = decision_tree.predict(x_test)"
   ]
  },
  {
   "cell_type": "code",
   "execution_count": 55,
   "id": "d224acf2",
   "metadata": {
    "scrolled": false
   },
   "outputs": [
    {
     "name": "stdout",
     "output_type": "stream",
     "text": [
      "Train Evaluation:\n",
      "Occuracy: 98.17158931082982\n",
      "Precision: 0.6364963503649635\n",
      "Recall: 0.5\n",
      "F1-measure: 0.5600513808606294\n",
      "==================\n",
      "Test Evaluation:\n",
      "Occuracy: 82.02247191011236\n",
      "Precision: 0.8508771929824561\n",
      "Recall: 0.5\n",
      "F1-measure: 0.6298701298701299\n"
     ]
    }
   ],
   "source": [
    "print(f'Train Evaluation:\\n{get_model_evaluation(y_train,decision_tree.predict(x_train))}\\n==================\\nTest Evaluation:\\n{get_model_evaluation(y_test,tree)}')"
   ]
  },
  {
   "cell_type": "markdown",
   "id": "47f6a14f",
   "metadata": {},
   "source": [
    "This model performance in test is far lower than the one observed in train, which shows that this model overfit the data and will probably perform badly in production"
   ]
  },
  {
   "cell_type": "markdown",
   "id": "8575eff5",
   "metadata": {},
   "source": [
    "## KNN"
   ]
  },
  {
   "cell_type": "code",
   "execution_count": 56,
   "id": "6da31cf3",
   "metadata": {
    "scrolled": true
   },
   "outputs": [
    {
     "name": "stdout",
     "output_type": "stream",
     "text": [
      "Train Occuracy: 82.27848101265823\n",
      "Test Occuracy: 82.58426966292134\n"
     ]
    }
   ],
   "source": [
    "from sklearn.neighbors import KNeighborsClassifier\n",
    "\n",
    "num_neighbors = 10\n",
    "knn = KNeighborsClassifier(n_neighbors = num_neighbors)\n",
    "knn.fit(x_train, y_train)\n",
    "knn_prediction = knn.predict(x_test)\n",
    "print(f'Train Accuracy: {knn.score(x_train, y_train)*100}\\nTest Accuracy: {knn.score(x_test, y_test)*100}')"
   ]
  },
  {
   "cell_type": "markdown",
   "id": "223b11cc",
   "metadata": {},
   "source": [
    "No overfit nor underfit, and the accuracy is acceptable"
   ]
  },
  {
   "cell_type": "markdown",
   "id": "1c6118af",
   "metadata": {},
   "source": [
    "## Random Forest"
   ]
  },
  {
   "cell_type": "code",
   "execution_count": 57,
   "id": "4147c138",
   "metadata": {
    "scrolled": true
   },
   "outputs": [
    {
     "name": "stdout",
     "output_type": "stream",
     "text": [
      "Train Occuracy: 98.17158931082982\n",
      "Test Occuracy: 82.58426966292134\n"
     ]
    }
   ],
   "source": [
    "from sklearn.ensemble import RandomForestClassifier\n",
    "\n",
    "num_estimators = 50\n",
    "random_forest = RandomForestClassifier(n_estimators=num_estimators)\n",
    "random_forest.fit(x_train,y_train)\n",
    "rf_prediction = random_forest.predict(x_test)\n",
    "print(f'Train Accuracy: {random_forest.score(x_train, y_train)*100}\\nTest Accuracy: {random_forest.score(x_test, y_test)*100}')"
   ]
  },
  {
   "cell_type": "markdown",
   "id": "2977098e",
   "metadata": {},
   "source": [
    "Another case of overfit"
   ]
  },
  {
   "cell_type": "markdown",
   "id": "3d777d92",
   "metadata": {},
   "source": [
    "# Comments\n",
    "\n",
    "There was no significant improvement compared to the original project notebook"
   ]
  }
 ],
 "metadata": {
  "kernelspec": {
   "display_name": "Python 3 (ipykernel)",
   "language": "python",
   "name": "python3"
  },
  "language_info": {
   "codemirror_mode": {
    "name": "ipython",
    "version": 3
   },
   "file_extension": ".py",
   "mimetype": "text/x-python",
   "name": "python",
   "nbconvert_exporter": "python",
   "pygments_lexer": "ipython3",
   "version": "3.9.12"
  }
 },
 "nbformat": 4,
 "nbformat_minor": 5
}
