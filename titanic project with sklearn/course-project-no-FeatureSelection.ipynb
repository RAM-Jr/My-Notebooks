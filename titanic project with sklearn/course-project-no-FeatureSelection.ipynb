{
 "cells": [
  {
   "cell_type": "markdown",
   "id": "befb96d9",
   "metadata": {},
   "source": [
    "# Dataset Description"
   ]
  },
  {
   "cell_type": "code",
   "execution_count": null,
   "id": "dbcede1d",
   "metadata": {},
   "outputs": [],
   "source": []
  },
  {
   "cell_type": "markdown",
   "id": "a9a50aae",
   "metadata": {},
   "source": [
    "# Import Libraries"
   ]
  },
  {
   "cell_type": "code",
   "execution_count": 112,
   "id": "c8804d30",
   "metadata": {},
   "outputs": [],
   "source": [
    "import pandas as pd\n",
    "import numpy as np\n",
    "from sklearn import linear_model\n",
    "import matplotlib.pyplot as plt\n",
    "%matplotlib inline\n",
    "import seaborn as sns\n",
    "sns.set()"
   ]
  },
  {
   "cell_type": "markdown",
   "id": "65190c17",
   "metadata": {},
   "source": [
    "# Load the data"
   ]
  },
  {
   "cell_type": "code",
   "execution_count": 113,
   "id": "a7506123",
   "metadata": {
    "scrolled": true
   },
   "outputs": [
    {
     "data": {
      "text/html": [
       "<div>\n",
       "<style scoped>\n",
       "    .dataframe tbody tr th:only-of-type {\n",
       "        vertical-align: middle;\n",
       "    }\n",
       "\n",
       "    .dataframe tbody tr th {\n",
       "        vertical-align: top;\n",
       "    }\n",
       "\n",
       "    .dataframe thead th {\n",
       "        text-align: right;\n",
       "    }\n",
       "</style>\n",
       "<table border=\"1\" class=\"dataframe\">\n",
       "  <thead>\n",
       "    <tr style=\"text-align: right;\">\n",
       "      <th></th>\n",
       "      <th>PassengerId</th>\n",
       "      <th>Survived</th>\n",
       "      <th>Pclass</th>\n",
       "      <th>Name</th>\n",
       "      <th>Sex</th>\n",
       "      <th>Age</th>\n",
       "      <th>SibSp</th>\n",
       "      <th>Parch</th>\n",
       "      <th>Ticket</th>\n",
       "      <th>Fare</th>\n",
       "      <th>Cabin</th>\n",
       "      <th>Embarked</th>\n",
       "    </tr>\n",
       "  </thead>\n",
       "  <tbody>\n",
       "    <tr>\n",
       "      <th>0</th>\n",
       "      <td>1</td>\n",
       "      <td>0</td>\n",
       "      <td>3</td>\n",
       "      <td>Braund, Mr. Owen Harris</td>\n",
       "      <td>male</td>\n",
       "      <td>22.0</td>\n",
       "      <td>1</td>\n",
       "      <td>0</td>\n",
       "      <td>A/5 21171</td>\n",
       "      <td>7.2500</td>\n",
       "      <td>NaN</td>\n",
       "      <td>S</td>\n",
       "    </tr>\n",
       "    <tr>\n",
       "      <th>1</th>\n",
       "      <td>2</td>\n",
       "      <td>1</td>\n",
       "      <td>1</td>\n",
       "      <td>Cumings, Mrs. John Bradley (Florence Briggs Th...</td>\n",
       "      <td>female</td>\n",
       "      <td>38.0</td>\n",
       "      <td>1</td>\n",
       "      <td>0</td>\n",
       "      <td>PC 17599</td>\n",
       "      <td>71.2833</td>\n",
       "      <td>C85</td>\n",
       "      <td>C</td>\n",
       "    </tr>\n",
       "    <tr>\n",
       "      <th>2</th>\n",
       "      <td>3</td>\n",
       "      <td>1</td>\n",
       "      <td>3</td>\n",
       "      <td>Heikkinen, Miss. Laina</td>\n",
       "      <td>female</td>\n",
       "      <td>26.0</td>\n",
       "      <td>0</td>\n",
       "      <td>0</td>\n",
       "      <td>STON/O2. 3101282</td>\n",
       "      <td>7.9250</td>\n",
       "      <td>NaN</td>\n",
       "      <td>S</td>\n",
       "    </tr>\n",
       "    <tr>\n",
       "      <th>3</th>\n",
       "      <td>4</td>\n",
       "      <td>1</td>\n",
       "      <td>1</td>\n",
       "      <td>Futrelle, Mrs. Jacques Heath (Lily May Peel)</td>\n",
       "      <td>female</td>\n",
       "      <td>35.0</td>\n",
       "      <td>1</td>\n",
       "      <td>0</td>\n",
       "      <td>113803</td>\n",
       "      <td>53.1000</td>\n",
       "      <td>C123</td>\n",
       "      <td>S</td>\n",
       "    </tr>\n",
       "    <tr>\n",
       "      <th>4</th>\n",
       "      <td>5</td>\n",
       "      <td>0</td>\n",
       "      <td>3</td>\n",
       "      <td>Allen, Mr. William Henry</td>\n",
       "      <td>male</td>\n",
       "      <td>35.0</td>\n",
       "      <td>0</td>\n",
       "      <td>0</td>\n",
       "      <td>373450</td>\n",
       "      <td>8.0500</td>\n",
       "      <td>NaN</td>\n",
       "      <td>S</td>\n",
       "    </tr>\n",
       "  </tbody>\n",
       "</table>\n",
       "</div>"
      ],
      "text/plain": [
       "   PassengerId  Survived  Pclass  \\\n",
       "0            1         0       3   \n",
       "1            2         1       1   \n",
       "2            3         1       3   \n",
       "3            4         1       1   \n",
       "4            5         0       3   \n",
       "\n",
       "                                                Name     Sex   Age  SibSp  \\\n",
       "0                            Braund, Mr. Owen Harris    male  22.0      1   \n",
       "1  Cumings, Mrs. John Bradley (Florence Briggs Th...  female  38.0      1   \n",
       "2                             Heikkinen, Miss. Laina  female  26.0      0   \n",
       "3       Futrelle, Mrs. Jacques Heath (Lily May Peel)  female  35.0      1   \n",
       "4                           Allen, Mr. William Henry    male  35.0      0   \n",
       "\n",
       "   Parch            Ticket     Fare Cabin Embarked  \n",
       "0      0         A/5 21171   7.2500   NaN        S  \n",
       "1      0          PC 17599  71.2833   C85        C  \n",
       "2      0  STON/O2. 3101282   7.9250   NaN        S  \n",
       "3      0            113803  53.1000  C123        S  \n",
       "4      0            373450   8.0500   NaN        S  "
      ]
     },
     "execution_count": 113,
     "metadata": {},
     "output_type": "execute_result"
    }
   ],
   "source": [
    "raw_data = pd.read_csv('./train.csv')\n",
    "raw_data.head()"
   ]
  },
  {
   "cell_type": "markdown",
   "id": "a11691d0",
   "metadata": {},
   "source": [
    "# Data Exploration"
   ]
  },
  {
   "cell_type": "markdown",
   "id": "b00e2bb1",
   "metadata": {},
   "source": [
    "### Explore the descriptive statistics of the attributes"
   ]
  },
  {
   "cell_type": "code",
   "execution_count": 114,
   "id": "edde3d85",
   "metadata": {
    "scrolled": false
   },
   "outputs": [
    {
     "data": {
      "text/html": [
       "<div>\n",
       "<style scoped>\n",
       "    .dataframe tbody tr th:only-of-type {\n",
       "        vertical-align: middle;\n",
       "    }\n",
       "\n",
       "    .dataframe tbody tr th {\n",
       "        vertical-align: top;\n",
       "    }\n",
       "\n",
       "    .dataframe thead th {\n",
       "        text-align: right;\n",
       "    }\n",
       "</style>\n",
       "<table border=\"1\" class=\"dataframe\">\n",
       "  <thead>\n",
       "    <tr style=\"text-align: right;\">\n",
       "      <th></th>\n",
       "      <th>PassengerId</th>\n",
       "      <th>Survived</th>\n",
       "      <th>Pclass</th>\n",
       "      <th>Name</th>\n",
       "      <th>Sex</th>\n",
       "      <th>Age</th>\n",
       "      <th>SibSp</th>\n",
       "      <th>Parch</th>\n",
       "      <th>Ticket</th>\n",
       "      <th>Fare</th>\n",
       "      <th>Cabin</th>\n",
       "      <th>Embarked</th>\n",
       "    </tr>\n",
       "  </thead>\n",
       "  <tbody>\n",
       "    <tr>\n",
       "      <th>count</th>\n",
       "      <td>891.000000</td>\n",
       "      <td>891.000000</td>\n",
       "      <td>891.000000</td>\n",
       "      <td>891</td>\n",
       "      <td>891</td>\n",
       "      <td>714.000000</td>\n",
       "      <td>891.000000</td>\n",
       "      <td>891.000000</td>\n",
       "      <td>891</td>\n",
       "      <td>891.000000</td>\n",
       "      <td>204</td>\n",
       "      <td>889</td>\n",
       "    </tr>\n",
       "    <tr>\n",
       "      <th>unique</th>\n",
       "      <td>NaN</td>\n",
       "      <td>NaN</td>\n",
       "      <td>NaN</td>\n",
       "      <td>891</td>\n",
       "      <td>2</td>\n",
       "      <td>NaN</td>\n",
       "      <td>NaN</td>\n",
       "      <td>NaN</td>\n",
       "      <td>681</td>\n",
       "      <td>NaN</td>\n",
       "      <td>147</td>\n",
       "      <td>3</td>\n",
       "    </tr>\n",
       "    <tr>\n",
       "      <th>top</th>\n",
       "      <td>NaN</td>\n",
       "      <td>NaN</td>\n",
       "      <td>NaN</td>\n",
       "      <td>Braund, Mr. Owen Harris</td>\n",
       "      <td>male</td>\n",
       "      <td>NaN</td>\n",
       "      <td>NaN</td>\n",
       "      <td>NaN</td>\n",
       "      <td>347082</td>\n",
       "      <td>NaN</td>\n",
       "      <td>B96 B98</td>\n",
       "      <td>S</td>\n",
       "    </tr>\n",
       "    <tr>\n",
       "      <th>freq</th>\n",
       "      <td>NaN</td>\n",
       "      <td>NaN</td>\n",
       "      <td>NaN</td>\n",
       "      <td>1</td>\n",
       "      <td>577</td>\n",
       "      <td>NaN</td>\n",
       "      <td>NaN</td>\n",
       "      <td>NaN</td>\n",
       "      <td>7</td>\n",
       "      <td>NaN</td>\n",
       "      <td>4</td>\n",
       "      <td>644</td>\n",
       "    </tr>\n",
       "    <tr>\n",
       "      <th>mean</th>\n",
       "      <td>446.000000</td>\n",
       "      <td>0.383838</td>\n",
       "      <td>2.308642</td>\n",
       "      <td>NaN</td>\n",
       "      <td>NaN</td>\n",
       "      <td>29.699118</td>\n",
       "      <td>0.523008</td>\n",
       "      <td>0.381594</td>\n",
       "      <td>NaN</td>\n",
       "      <td>32.204208</td>\n",
       "      <td>NaN</td>\n",
       "      <td>NaN</td>\n",
       "    </tr>\n",
       "    <tr>\n",
       "      <th>std</th>\n",
       "      <td>257.353842</td>\n",
       "      <td>0.486592</td>\n",
       "      <td>0.836071</td>\n",
       "      <td>NaN</td>\n",
       "      <td>NaN</td>\n",
       "      <td>14.526497</td>\n",
       "      <td>1.102743</td>\n",
       "      <td>0.806057</td>\n",
       "      <td>NaN</td>\n",
       "      <td>49.693429</td>\n",
       "      <td>NaN</td>\n",
       "      <td>NaN</td>\n",
       "    </tr>\n",
       "    <tr>\n",
       "      <th>min</th>\n",
       "      <td>1.000000</td>\n",
       "      <td>0.000000</td>\n",
       "      <td>1.000000</td>\n",
       "      <td>NaN</td>\n",
       "      <td>NaN</td>\n",
       "      <td>0.420000</td>\n",
       "      <td>0.000000</td>\n",
       "      <td>0.000000</td>\n",
       "      <td>NaN</td>\n",
       "      <td>0.000000</td>\n",
       "      <td>NaN</td>\n",
       "      <td>NaN</td>\n",
       "    </tr>\n",
       "    <tr>\n",
       "      <th>25%</th>\n",
       "      <td>223.500000</td>\n",
       "      <td>0.000000</td>\n",
       "      <td>2.000000</td>\n",
       "      <td>NaN</td>\n",
       "      <td>NaN</td>\n",
       "      <td>20.125000</td>\n",
       "      <td>0.000000</td>\n",
       "      <td>0.000000</td>\n",
       "      <td>NaN</td>\n",
       "      <td>7.910400</td>\n",
       "      <td>NaN</td>\n",
       "      <td>NaN</td>\n",
       "    </tr>\n",
       "    <tr>\n",
       "      <th>50%</th>\n",
       "      <td>446.000000</td>\n",
       "      <td>0.000000</td>\n",
       "      <td>3.000000</td>\n",
       "      <td>NaN</td>\n",
       "      <td>NaN</td>\n",
       "      <td>28.000000</td>\n",
       "      <td>0.000000</td>\n",
       "      <td>0.000000</td>\n",
       "      <td>NaN</td>\n",
       "      <td>14.454200</td>\n",
       "      <td>NaN</td>\n",
       "      <td>NaN</td>\n",
       "    </tr>\n",
       "    <tr>\n",
       "      <th>75%</th>\n",
       "      <td>668.500000</td>\n",
       "      <td>1.000000</td>\n",
       "      <td>3.000000</td>\n",
       "      <td>NaN</td>\n",
       "      <td>NaN</td>\n",
       "      <td>38.000000</td>\n",
       "      <td>1.000000</td>\n",
       "      <td>0.000000</td>\n",
       "      <td>NaN</td>\n",
       "      <td>31.000000</td>\n",
       "      <td>NaN</td>\n",
       "      <td>NaN</td>\n",
       "    </tr>\n",
       "    <tr>\n",
       "      <th>max</th>\n",
       "      <td>891.000000</td>\n",
       "      <td>1.000000</td>\n",
       "      <td>3.000000</td>\n",
       "      <td>NaN</td>\n",
       "      <td>NaN</td>\n",
       "      <td>80.000000</td>\n",
       "      <td>8.000000</td>\n",
       "      <td>6.000000</td>\n",
       "      <td>NaN</td>\n",
       "      <td>512.329200</td>\n",
       "      <td>NaN</td>\n",
       "      <td>NaN</td>\n",
       "    </tr>\n",
       "  </tbody>\n",
       "</table>\n",
       "</div>"
      ],
      "text/plain": [
       "        PassengerId    Survived      Pclass                     Name   Sex  \\\n",
       "count    891.000000  891.000000  891.000000                      891   891   \n",
       "unique          NaN         NaN         NaN                      891     2   \n",
       "top             NaN         NaN         NaN  Braund, Mr. Owen Harris  male   \n",
       "freq            NaN         NaN         NaN                        1   577   \n",
       "mean     446.000000    0.383838    2.308642                      NaN   NaN   \n",
       "std      257.353842    0.486592    0.836071                      NaN   NaN   \n",
       "min        1.000000    0.000000    1.000000                      NaN   NaN   \n",
       "25%      223.500000    0.000000    2.000000                      NaN   NaN   \n",
       "50%      446.000000    0.000000    3.000000                      NaN   NaN   \n",
       "75%      668.500000    1.000000    3.000000                      NaN   NaN   \n",
       "max      891.000000    1.000000    3.000000                      NaN   NaN   \n",
       "\n",
       "               Age       SibSp       Parch  Ticket        Fare    Cabin  \\\n",
       "count   714.000000  891.000000  891.000000     891  891.000000      204   \n",
       "unique         NaN         NaN         NaN     681         NaN      147   \n",
       "top            NaN         NaN         NaN  347082         NaN  B96 B98   \n",
       "freq           NaN         NaN         NaN       7         NaN        4   \n",
       "mean     29.699118    0.523008    0.381594     NaN   32.204208      NaN   \n",
       "std      14.526497    1.102743    0.806057     NaN   49.693429      NaN   \n",
       "min       0.420000    0.000000    0.000000     NaN    0.000000      NaN   \n",
       "25%      20.125000    0.000000    0.000000     NaN    7.910400      NaN   \n",
       "50%      28.000000    0.000000    0.000000     NaN   14.454200      NaN   \n",
       "75%      38.000000    1.000000    0.000000     NaN   31.000000      NaN   \n",
       "max      80.000000    8.000000    6.000000     NaN  512.329200      NaN   \n",
       "\n",
       "       Embarked  \n",
       "count       889  \n",
       "unique        3  \n",
       "top           S  \n",
       "freq        644  \n",
       "mean        NaN  \n",
       "std         NaN  \n",
       "min         NaN  \n",
       "25%         NaN  \n",
       "50%         NaN  \n",
       "75%         NaN  \n",
       "max         NaN  "
      ]
     },
     "execution_count": 114,
     "metadata": {},
     "output_type": "execute_result"
    }
   ],
   "source": [
    "raw_data.describe(include='all')\n",
    "# The categorical variables don't have some types of numerical descriptives and numerical variables \n",
    "# don't have some types of categorical descriptives so the value displayed is NaN."
   ]
  },
  {
   "cell_type": "markdown",
   "id": "ef0d3b1e",
   "metadata": {},
   "source": [
    "#### From the descriptive statistics I observed that:\n",
    "##### >> there are missing values for the attributes Age, Cabin and Embarked\n",
    "##### >> there are no duplicate tuples, as there 891 unique names for 891 observations"
   ]
  },
  {
   "cell_type": "code",
   "execution_count": 115,
   "id": "3ccaa9bd",
   "metadata": {},
   "outputs": [
    {
     "data": {
      "text/plain": [
       "False"
      ]
     },
     "execution_count": 115,
     "metadata": {},
     "output_type": "execute_result"
    }
   ],
   "source": [
    "# with this line I can confirm that there are no duplicate tuples\n",
    "raw_data.duplicated().any()"
   ]
  },
  {
   "cell_type": "code",
   "execution_count": 116,
   "id": "475a3ac8",
   "metadata": {},
   "outputs": [],
   "source": [
    "# I'll also drop the attribute Name, because I believe that in this case the name has no use as a predictor\n",
    "raw_data = raw_data.drop(['Name'], axis=1)"
   ]
  },
  {
   "cell_type": "code",
   "execution_count": 117,
   "id": "12e6ed5a",
   "metadata": {},
   "outputs": [
    {
     "data": {
      "text/plain": [
       "PassengerId      int64\n",
       "Survived         int64\n",
       "Pclass           int64\n",
       "Sex             object\n",
       "Age            float64\n",
       "SibSp            int64\n",
       "Parch            int64\n",
       "Ticket          object\n",
       "Fare           float64\n",
       "Cabin           object\n",
       "Embarked        object\n",
       "dtype: object"
      ]
     },
     "execution_count": 117,
     "metadata": {},
     "output_type": "execute_result"
    }
   ],
   "source": [
    "raw_data.dtypes"
   ]
  },
  {
   "cell_type": "code",
   "execution_count": 118,
   "id": "9c7ae818",
   "metadata": {},
   "outputs": [
    {
     "data": {
      "text/plain": [
       "0             A/5 21171\n",
       "1              PC 17599\n",
       "2      STON/O2. 3101282\n",
       "3                113803\n",
       "4                373450\n",
       "             ...       \n",
       "886              211536\n",
       "887              112053\n",
       "888          W./C. 6607\n",
       "889              111369\n",
       "890              370376\n",
       "Name: Ticket, Length: 891, dtype: object"
      ]
     },
     "execution_count": 118,
     "metadata": {},
     "output_type": "execute_result"
    }
   ],
   "source": [
    "# From the data types of the attributes we can se that except the ticket number which seems to be an object\n",
    "# instead of number as it was described in the dataset description, all other attributes data type is correct\n",
    "raw_data['Ticket']"
   ]
  },
  {
   "cell_type": "code",
   "execution_count": 119,
   "id": "8fb447b4",
   "metadata": {},
   "outputs": [],
   "source": [
    "# From the data above, we can see that some ticket numbers have preffixes, which may reffer \n",
    "# to specific agencies\n",
    "\n",
    "# I'll extract the number and the string preffix, if it exist, from each ticket value and save them\n",
    "# into new attributes called ticket_agency (for the preffix) and ticket_number for the number itself...\n",
    "\n",
    "# raw_data['Ticket'] = raw_data['Ticket'].apply()\n",
    "# raw_data['Ticket']"
   ]
  },
  {
   "cell_type": "code",
   "execution_count": 120,
   "id": "b3f63dc0",
   "metadata": {},
   "outputs": [],
   "source": [
    "# Although the Ticket attribute I may lose some explanatory power if I drop the column refering to this\n",
    "# attribute, I'll still drop it for this model in specific because I believe that it's o no use\n",
    "raw_data = raw_data.drop(['Ticket'], axis=1)"
   ]
  },
  {
   "cell_type": "markdown",
   "id": "6ef32cd4",
   "metadata": {},
   "source": [
    "### Dealing with the missing values"
   ]
  },
  {
   "cell_type": "code",
   "execution_count": 121,
   "id": "e592cfac",
   "metadata": {
    "scrolled": false
   },
   "outputs": [
    {
     "data": {
      "text/plain": [
       "PassengerId      0\n",
       "Survived         0\n",
       "Pclass           0\n",
       "Sex              0\n",
       "Age            177\n",
       "SibSp            0\n",
       "Parch            0\n",
       "Fare             0\n",
       "Cabin          687\n",
       "Embarked         2\n",
       "dtype: int64"
      ]
     },
     "execution_count": 121,
     "metadata": {},
     "output_type": "execute_result"
    }
   ],
   "source": [
    "raw_data.isnull().sum() # To get the total number of missing values for each attribute"
   ]
  },
  {
   "cell_type": "code",
   "execution_count": 122,
   "id": "12de4805",
   "metadata": {},
   "outputs": [
    {
     "data": {
      "text/html": [
       "<div>\n",
       "<style scoped>\n",
       "    .dataframe tbody tr th:only-of-type {\n",
       "        vertical-align: middle;\n",
       "    }\n",
       "\n",
       "    .dataframe tbody tr th {\n",
       "        vertical-align: top;\n",
       "    }\n",
       "\n",
       "    .dataframe thead th {\n",
       "        text-align: right;\n",
       "    }\n",
       "</style>\n",
       "<table border=\"1\" class=\"dataframe\">\n",
       "  <thead>\n",
       "    <tr style=\"text-align: right;\">\n",
       "      <th></th>\n",
       "      <th>Missing Ratio</th>\n",
       "    </tr>\n",
       "  </thead>\n",
       "  <tbody>\n",
       "    <tr>\n",
       "      <th>Cabin</th>\n",
       "      <td>77.104377</td>\n",
       "    </tr>\n",
       "    <tr>\n",
       "      <th>Age</th>\n",
       "      <td>19.865320</td>\n",
       "    </tr>\n",
       "    <tr>\n",
       "      <th>Embarked</th>\n",
       "      <td>0.224467</td>\n",
       "    </tr>\n",
       "  </tbody>\n",
       "</table>\n",
       "</div>"
      ],
      "text/plain": [
       "          Missing Ratio\n",
       "Cabin         77.104377\n",
       "Age           19.865320\n",
       "Embarked       0.224467"
      ]
     },
     "execution_count": 122,
     "metadata": {},
     "output_type": "execute_result"
    }
   ],
   "source": [
    "# Get the percentage of missing values for each attribute with missing values\n",
    "raw_data_mv = raw_data.isnull().sum()/len(raw_data)*100 \n",
    "raw_data_mv = raw_data_mv.drop(raw_data_mv[raw_data_mv == 0].index).sort_values(ascending=False)[:30]\n",
    "missing_data = pd.DataFrame({'Missing Ratio' :raw_data_mv})\n",
    "missing_data"
   ]
  },
  {
   "cell_type": "markdown",
   "id": "5a3402fb",
   "metadata": {},
   "source": [
    "#### Plot the missing values"
   ]
  },
  {
   "cell_type": "code",
   "execution_count": 123,
   "id": "cc7cb474",
   "metadata": {},
   "outputs": [
    {
     "data": {
      "text/plain": [
       "Text(0.5, 1.0, 'Attributes wiht Missing Values')"
      ]
     },
     "execution_count": 123,
     "metadata": {},
     "output_type": "execute_result"
    },
    {
     "data": {
      "image/png": "[encoded data removed]",
      "text/plain": [
       "<Figure size 576x432 with 1 Axes>"
      ]
     },
     "metadata": {},
     "output_type": "display_data"
    }
   ],
   "source": [
    "fig, ax = plt.subplots(figsize=(8,6))\n",
    "plt.xticks(rotation='90')\n",
    "sns.barplot(x=raw_data_mv.index, y=raw_data_mv)\n",
    "plt.xlabel('Features', fontsize=15)\n",
    "plt.ylabel('Percent of Missing Values', fontsize=15)\n",
    "plt.title('Attributes wiht Missing Values', fontsize=15)"
   ]
  },
  {
   "cell_type": "code",
   "execution_count": 124,
   "id": "a1cce34c",
   "metadata": {},
   "outputs": [
    {
     "data": {
      "text/plain": [
       "PassengerId      0\n",
       "Survived         0\n",
       "Pclass           0\n",
       "Sex              0\n",
       "Age            177\n",
       "SibSp            0\n",
       "Parch            0\n",
       "Fare             0\n",
       "Cabin          687\n",
       "Embarked         0\n",
       "dtype: int64"
      ]
     },
     "execution_count": 124,
     "metadata": {},
     "output_type": "execute_result"
    }
   ],
   "source": [
    "# For the embarked attribute, I'll simply drop the missing values as there a less than 5% observations\n",
    "# with missing values\n",
    "raw_data = raw_data[raw_data['Embarked'].notna()]\n",
    "raw_data.isnull().sum()"
   ]
  },
  {
   "cell_type": "code",
   "execution_count": 125,
   "id": "2fc51448",
   "metadata": {},
   "outputs": [
    {
     "data": {
      "text/plain": [
       "PassengerId      0\n",
       "Survived         0\n",
       "Pclass           0\n",
       "Sex              0\n",
       "Age            177\n",
       "SibSp            0\n",
       "Parch            0\n",
       "Fare             0\n",
       "Embarked         0\n",
       "dtype: int64"
      ]
     },
     "execution_count": 125,
     "metadata": {},
     "output_type": "execute_result"
    }
   ],
   "source": [
    "# For the attributes Age and Cabin, dropping the rows with missing values would cost a lot of data as \n",
    "# the rows with missing values for these are more than 5% of the observations. So the missing values \n",
    "# must be dealt in another way\n",
    "\n",
    "# For the attribute Cabin, althought I think that it's very significant, to avoid errors due to wrong\n",
    "# treatment to fill the missing values I'll drop the attribute... Also the attribute Pclass will\n",
    "# help to cover a good amount of explanatory power lost due to the loss of the cabin attribute. \n",
    "# when I try to improve the model, I'll deal with the attribute cabin with a better method\n",
    "\n",
    "raw_data = raw_data.drop(['Cabin'], axis=1)\n",
    "raw_data.isnull().sum()"
   ]
  },
  {
   "cell_type": "code",
   "execution_count": 126,
   "id": "ee238ace",
   "metadata": {},
   "outputs": [
    {
     "data": {
      "text/plain": [
       "0      22.0\n",
       "1      38.0\n",
       "2      26.0\n",
       "3      35.0\n",
       "4      35.0\n",
       "       ... \n",
       "886    27.0\n",
       "887    19.0\n",
       "888     NaN\n",
       "889    26.0\n",
       "890    32.0\n",
       "Name: Age, Length: 889, dtype: float64"
      ]
     },
     "execution_count": 126,
     "metadata": {},
     "output_type": "execute_result"
    }
   ],
   "source": [
    "# For the age attribute, I observed that there are althougt there are a lot of missing values, they don't \n",
    "# exceed 60% and the values are numerical, so I decided to fill the missing values\n",
    "\n",
    "# I'll fill the missing values with the mean instead of the median since, from my observation of the \n",
    "# descriptive statistics, there are no obvious outliers.\n",
    "\n",
    "raw_data['Age']"
   ]
  },
  {
   "cell_type": "code",
   "execution_count": 127,
   "id": "71980a6a",
   "metadata": {},
   "outputs": [
    {
     "data": {
      "text/plain": [
       "0      22.000000\n",
       "1      38.000000\n",
       "2      26.000000\n",
       "3      35.000000\n",
       "4      35.000000\n",
       "         ...    \n",
       "886    27.000000\n",
       "887    19.000000\n",
       "888    29.642093\n",
       "889    26.000000\n",
       "890    32.000000\n",
       "Name: Age, Length: 889, dtype: float64"
      ]
     },
     "execution_count": 127,
     "metadata": {},
     "output_type": "execute_result"
    }
   ],
   "source": [
    "raw_data['Age'] = raw_data['Age'].replace(np.NaN, raw_data['Age'].mean())\n",
    "raw_data['Age']"
   ]
  },
  {
   "cell_type": "code",
   "execution_count": 128,
   "id": "98a24ccd",
   "metadata": {},
   "outputs": [
    {
     "data": {
      "text/plain": [
       "PassengerId    0\n",
       "Survived       0\n",
       "Pclass         0\n",
       "Sex            0\n",
       "Age            0\n",
       "SibSp          0\n",
       "Parch          0\n",
       "Fare           0\n",
       "Embarked       0\n",
       "dtype: int64"
      ]
     },
     "execution_count": 128,
     "metadata": {},
     "output_type": "execute_result"
    }
   ],
   "source": [
    "raw_data.isnull().sum()"
   ]
  },
  {
   "cell_type": "code",
   "execution_count": 129,
   "id": "2e848488",
   "metadata": {},
   "outputs": [
    {
     "data": {
      "text/html": [
       "<div>\n",
       "<style scoped>\n",
       "    .dataframe tbody tr th:only-of-type {\n",
       "        vertical-align: middle;\n",
       "    }\n",
       "\n",
       "    .dataframe tbody tr th {\n",
       "        vertical-align: top;\n",
       "    }\n",
       "\n",
       "    .dataframe thead th {\n",
       "        text-align: right;\n",
       "    }\n",
       "</style>\n",
       "<table border=\"1\" class=\"dataframe\">\n",
       "  <thead>\n",
       "    <tr style=\"text-align: right;\">\n",
       "      <th></th>\n",
       "      <th>PassengerId</th>\n",
       "      <th>Survived</th>\n",
       "      <th>Pclass</th>\n",
       "      <th>Sex</th>\n",
       "      <th>Age</th>\n",
       "      <th>SibSp</th>\n",
       "      <th>Parch</th>\n",
       "      <th>Fare</th>\n",
       "      <th>Embarked</th>\n",
       "    </tr>\n",
       "  </thead>\n",
       "  <tbody>\n",
       "    <tr>\n",
       "      <th>count</th>\n",
       "      <td>889.000000</td>\n",
       "      <td>889.000000</td>\n",
       "      <td>889.000000</td>\n",
       "      <td>889</td>\n",
       "      <td>889.000000</td>\n",
       "      <td>889.000000</td>\n",
       "      <td>889.000000</td>\n",
       "      <td>889.000000</td>\n",
       "      <td>889</td>\n",
       "    </tr>\n",
       "    <tr>\n",
       "      <th>unique</th>\n",
       "      <td>NaN</td>\n",
       "      <td>NaN</td>\n",
       "      <td>NaN</td>\n",
       "      <td>2</td>\n",
       "      <td>NaN</td>\n",
       "      <td>NaN</td>\n",
       "      <td>NaN</td>\n",
       "      <td>NaN</td>\n",
       "      <td>3</td>\n",
       "    </tr>\n",
       "    <tr>\n",
       "      <th>top</th>\n",
       "      <td>NaN</td>\n",
       "      <td>NaN</td>\n",
       "      <td>NaN</td>\n",
       "      <td>male</td>\n",
       "      <td>NaN</td>\n",
       "      <td>NaN</td>\n",
       "      <td>NaN</td>\n",
       "      <td>NaN</td>\n",
       "      <td>S</td>\n",
       "    </tr>\n",
       "    <tr>\n",
       "      <th>freq</th>\n",
       "      <td>NaN</td>\n",
       "      <td>NaN</td>\n",
       "      <td>NaN</td>\n",
       "      <td>577</td>\n",
       "      <td>NaN</td>\n",
       "      <td>NaN</td>\n",
       "      <td>NaN</td>\n",
       "      <td>NaN</td>\n",
       "      <td>644</td>\n",
       "    </tr>\n",
       "    <tr>\n",
       "      <th>mean</th>\n",
       "      <td>446.000000</td>\n",
       "      <td>0.382452</td>\n",
       "      <td>2.311586</td>\n",
       "      <td>NaN</td>\n",
       "      <td>29.642093</td>\n",
       "      <td>0.524184</td>\n",
       "      <td>0.382452</td>\n",
       "      <td>32.096681</td>\n",
       "      <td>NaN</td>\n",
       "    </tr>\n",
       "    <tr>\n",
       "      <th>std</th>\n",
       "      <td>256.998173</td>\n",
       "      <td>0.486260</td>\n",
       "      <td>0.834700</td>\n",
       "      <td>NaN</td>\n",
       "      <td>12.968346</td>\n",
       "      <td>1.103705</td>\n",
       "      <td>0.806761</td>\n",
       "      <td>49.697504</td>\n",
       "      <td>NaN</td>\n",
       "    </tr>\n",
       "    <tr>\n",
       "      <th>min</th>\n",
       "      <td>1.000000</td>\n",
       "      <td>0.000000</td>\n",
       "      <td>1.000000</td>\n",
       "      <td>NaN</td>\n",
       "      <td>0.420000</td>\n",
       "      <td>0.000000</td>\n",
       "      <td>0.000000</td>\n",
       "      <td>0.000000</td>\n",
       "      <td>NaN</td>\n",
       "    </tr>\n",
       "    <tr>\n",
       "      <th>25%</th>\n",
       "      <td>224.000000</td>\n",
       "      <td>0.000000</td>\n",
       "      <td>2.000000</td>\n",
       "      <td>NaN</td>\n",
       "      <td>22.000000</td>\n",
       "      <td>0.000000</td>\n",
       "      <td>0.000000</td>\n",
       "      <td>7.895800</td>\n",
       "      <td>NaN</td>\n",
       "    </tr>\n",
       "    <tr>\n",
       "      <th>50%</th>\n",
       "      <td>446.000000</td>\n",
       "      <td>0.000000</td>\n",
       "      <td>3.000000</td>\n",
       "      <td>NaN</td>\n",
       "      <td>29.642093</td>\n",
       "      <td>0.000000</td>\n",
       "      <td>0.000000</td>\n",
       "      <td>14.454200</td>\n",
       "      <td>NaN</td>\n",
       "    </tr>\n",
       "    <tr>\n",
       "      <th>75%</th>\n",
       "      <td>668.000000</td>\n",
       "      <td>1.000000</td>\n",
       "      <td>3.000000</td>\n",
       "      <td>NaN</td>\n",
       "      <td>35.000000</td>\n",
       "      <td>1.000000</td>\n",
       "      <td>0.000000</td>\n",
       "      <td>31.000000</td>\n",
       "      <td>NaN</td>\n",
       "    </tr>\n",
       "    <tr>\n",
       "      <th>max</th>\n",
       "      <td>891.000000</td>\n",
       "      <td>1.000000</td>\n",
       "      <td>3.000000</td>\n",
       "      <td>NaN</td>\n",
       "      <td>80.000000</td>\n",
       "      <td>8.000000</td>\n",
       "      <td>6.000000</td>\n",
       "      <td>512.329200</td>\n",
       "      <td>NaN</td>\n",
       "    </tr>\n",
       "  </tbody>\n",
       "</table>\n",
       "</div>"
      ],
      "text/plain": [
       "        PassengerId    Survived      Pclass   Sex         Age       SibSp  \\\n",
       "count    889.000000  889.000000  889.000000   889  889.000000  889.000000   \n",
       "unique          NaN         NaN         NaN     2         NaN         NaN   \n",
       "top             NaN         NaN         NaN  male         NaN         NaN   \n",
       "freq            NaN         NaN         NaN   577         NaN         NaN   \n",
       "mean     446.000000    0.382452    2.311586   NaN   29.642093    0.524184   \n",
       "std      256.998173    0.486260    0.834700   NaN   12.968346    1.103705   \n",
       "min        1.000000    0.000000    1.000000   NaN    0.420000    0.000000   \n",
       "25%      224.000000    0.000000    2.000000   NaN   22.000000    0.000000   \n",
       "50%      446.000000    0.000000    3.000000   NaN   29.642093    0.000000   \n",
       "75%      668.000000    1.000000    3.000000   NaN   35.000000    1.000000   \n",
       "max      891.000000    1.000000    3.000000   NaN   80.000000    8.000000   \n",
       "\n",
       "             Parch        Fare Embarked  \n",
       "count   889.000000  889.000000      889  \n",
       "unique         NaN         NaN        3  \n",
       "top            NaN         NaN        S  \n",
       "freq           NaN         NaN      644  \n",
       "mean      0.382452   32.096681      NaN  \n",
       "std       0.806761   49.697504      NaN  \n",
       "min       0.000000    0.000000      NaN  \n",
       "25%       0.000000    7.895800      NaN  \n",
       "50%       0.000000   14.454200      NaN  \n",
       "75%       0.000000   31.000000      NaN  \n",
       "max       6.000000  512.329200      NaN  "
      ]
     },
     "execution_count": 129,
     "metadata": {},
     "output_type": "execute_result"
    }
   ],
   "source": [
    "# I'll create another variable for the data with no missing values \n",
    "data_no_mv = raw_data.copy()\n",
    "data_no_mv.describe(include='all')"
   ]
  },
  {
   "cell_type": "markdown",
   "id": "aa7c64e8",
   "metadata": {},
   "source": [
    "### Creating Dummies for categorical values"
   ]
  },
  {
   "cell_type": "code",
   "execution_count": 130,
   "id": "4a65be5a",
   "metadata": {},
   "outputs": [
    {
     "data": {
      "text/plain": [
       "array(['male', 'female'], dtype=object)"
      ]
     },
     "execution_count": 130,
     "metadata": {},
     "output_type": "execute_result"
    }
   ],
   "source": [
    "data_no_mv['Sex'].unique()"
   ]
  },
  {
   "cell_type": "code",
   "execution_count": 131,
   "id": "5373a6ea",
   "metadata": {},
   "outputs": [
    {
     "data": {
      "text/plain": [
       "array([1, 0], dtype=int64)"
      ]
     },
     "execution_count": 131,
     "metadata": {},
     "output_type": "execute_result"
    }
   ],
   "source": [
    "data_with_dummies = data_no_mv.copy()\n",
    "data_with_dummies['Sex'] = data_with_dummies['Sex'].map({'male':1, 'female':0})\n",
    "data_with_dummies['Sex'].unique()"
   ]
  },
  {
   "cell_type": "code",
   "execution_count": 132,
   "id": "6b9af9cc",
   "metadata": {},
   "outputs": [
    {
     "data": {
      "text/plain": [
       "array(['S', 'C', 'Q'], dtype=object)"
      ]
     },
     "execution_count": 132,
     "metadata": {},
     "output_type": "execute_result"
    }
   ],
   "source": [
    "data_with_dummies['Embarked'].unique()"
   ]
  },
  {
   "cell_type": "code",
   "execution_count": 133,
   "id": "b9a684cd",
   "metadata": {
    "scrolled": true
   },
   "outputs": [
    {
     "data": {
      "text/plain": [
       "array([0, 1, 2], dtype=int64)"
      ]
     },
     "execution_count": 133,
     "metadata": {},
     "output_type": "execute_result"
    }
   ],
   "source": [
    "data_with_dummies['Embarked'] = data_with_dummies['Embarked'].map({'S':0, 'C':1, 'Q':2})\n",
    "data_with_dummies['Embarked'].unique()"
   ]
  },
  {
   "cell_type": "code",
   "execution_count": 134,
   "id": "11cc810d",
   "metadata": {},
   "outputs": [],
   "source": [
    "data_for_plot = data_no_mv.copy()\n",
    "data_for_plot\n",
    "def get_group(age): \n",
    "    if age > 0 and age <= 18 : \n",
    "        return \"Young\" \n",
    "    if age > 18 and age <= 60 : \n",
    "        return \"Adult\"       \n",
    "    return \"Old\"\n",
    "\n",
    "data_for_plot['Age_Group'] = [get_group(age) for age in data_for_plot['Age']]\n",
    "data_for_plot = data_for_plot.drop(['PassengerId','SibSp','Age','Fare'],axis=1)"
   ]
  },
  {
   "cell_type": "code",
   "execution_count": 135,
   "id": "ece23050",
   "metadata": {
    "scrolled": true
   },
   "outputs": [
    {
     "data": {
      "image/png": "[encoded data removed]",
      "text/plain": [
       "<Figure size 1080x2160 with 5 Axes>"
      ]
     },
     "metadata": {},
     "output_type": "display_data"
    }
   ],
   "source": [
    "cols = data_for_plot.drop(['Survived'],axis=1).columns\n",
    "fig, ax = plt.subplots(nrows = cols.shape[0], ncols = 1, figsize = (15, 30))\n",
    "\n",
    "for col, subplot in zip(cols, ax.flatten()):\n",
    "    sns.countplot(data = data_for_plot, x = col,  hue = 'Survived', ax = subplot, palette = 'magma')\n",
    "    subplot.legend(loc = 'upper right', title = 'Survived')\n",
    "    \n",
    "plt.show()"
   ]
  },
  {
   "cell_type": "markdown",
   "id": "7bba1739",
   "metadata": {},
   "source": [
    "### Observations from the plots\n",
    "The observations I made are occuraty as the data for each group in each attribute is not balanced, for example, the number of tuples of females is very low compared to that of males.\n",
    "\n",
    "##### Results from the attribute Pclass:\n",
    "The probability of a passenger with an upper ticket class surviving is higher than the others, and the probability of not surviving is very low for a passenger with a Lower ticket class\n",
    "\n",
    "##### Results from the attribute Sex:\n",
    "The probability of a female surviving is far higher than a male surviving\n",
    "\n",
    "##### Results from the attribute Parch:\n",
    "For child passengers who are travelling with a nany, there's a higher probability of not surviving\n",
    "\n",
    "##### Results from the attribute Embarked:\n",
    "There's a very low probability of surviving if the person embarked in Southapmton\n",
    "\n",
    "##### Results from the attribute Age:\n",
    "Although there are several records of people Adults who survived, It can be observed that there is even more people who didn't, which means that the probability of an Adult having survived is very low compared to the probability of a young one surviving."
   ]
  },
  {
   "cell_type": "markdown",
   "id": "b37b68d2",
   "metadata": {},
   "source": [
    "### PDF plot\n",
    "#### To see if the data is normaly distributed and whether there are any obvious outliers"
   ]
  },
  {
   "cell_type": "code",
   "execution_count": 136,
   "id": "d6af4e00",
   "metadata": {
    "scrolled": true
   },
   "outputs": [
    {
     "name": "stderr",
     "output_type": "stream",
     "text": [
      "C:\\Users\\Munguambe\\anaconda3\\lib\\site-packages\\seaborn\\distributions.py:2619: FutureWarning: `distplot` is a deprecated function and will be removed in a future version. Please adapt your code to use either `displot` (a figure-level function with similar flexibility) or `histplot` (an axes-level function for histograms).\n",
      "  warnings.warn(msg, FutureWarning)\n"
     ]
    },
    {
     "data": {
      "text/plain": [
       "<AxesSubplot:xlabel='Age', ylabel='Density'>"
      ]
     },
     "execution_count": 136,
     "metadata": {},
     "output_type": "execute_result"
    },
    {
     "data": {
      "image/png": "[encoded data removed]",
      "text/plain": [
       "<Figure size 432x288 with 1 Axes>"
      ]
     },
     "metadata": {},
     "output_type": "display_data"
    }
   ],
   "source": [
    "# Plot the Age attribute to see if there are any observable anomaly in the distribution\n",
    "sns.distplot(data_with_dummies['Age'])"
   ]
  },
  {
   "cell_type": "markdown",
   "id": "1110cf39",
   "metadata": {},
   "source": [
    "#### For better analyses, I'll verify the skewness of all variables, and apply a log transformation for those that are above the treshold, that is, above 0.75"
   ]
  },
  {
   "cell_type": "code",
   "execution_count": 137,
   "id": "cf27a711",
   "metadata": {},
   "outputs": [
    {
     "data": {
      "image/png": "[encoded data removed]",
      "text/plain": [
       "<Figure size 576x432 with 1 Axes>"
      ]
     },
     "metadata": {},
     "output_type": "display_data"
    }
   ],
   "source": [
    "numerical_attributes = data_with_dummies.dtypes[data_with_dummies.dtypes != \"object\"].index\n",
    "# in this case, since I have already created the dummies, all attributes are numerical\n",
    "\n",
    "skewed_attributes = data_with_dummies[numerical_attributes].skew()\n",
    "skewness = pd.DataFrame({\"Variable\":skewed_attributes.index, \"Skewness\":skewed_attributes.values})\n",
    "skewness = skewness.sort_values('Skewness', ascending=[0])\n",
    "\n",
    "fig, ax = plt.subplots(figsize=(8,6))\n",
    "plt.xticks(rotation='90')\n",
    "sns.barplot(x=skewness['Variable'], y=skewness['Skewness'])\n",
    "plt.ylim(0,25)\n",
    "plt.xlabel('Numerical Variables', fontsize=15)\n",
    "plt.ylabel('Skewness', fontsize=15)\n",
    "plt.title('', fontsize=15)\n",
    "plt.show() # display the skewness of the attributes without the log transformation"
   ]
  },
  {
   "cell_type": "code",
   "execution_count": 138,
   "id": "ef4ebe2b",
   "metadata": {},
   "outputs": [
    {
     "data": {
      "image/png": "[encoded data removed]",
      "text/plain": [
       "<Figure size 576x432 with 1 Axes>"
      ]
     },
     "metadata": {},
     "output_type": "display_data"
    }
   ],
   "source": [
    "# Select the attributes with the skewness above the treshold, .75\n",
    "skewed_attributes = skewed_attributes[skewed_attributes > 0.75]\n",
    "data_with_dummies[skewed_attributes.index] = np.log1p(data_with_dummies[skewed_attributes.index])\n",
    "\n",
    "skewed_attributes = data_with_dummies[numerical_attributes].skew()\n",
    "skewness_new = pd.DataFrame({\"Variable\":skewed_attributes.index, \"Skewness\":skewed_attributes.values})\n",
    "# select the variables with a skewness above a certain threshold\n",
    "\n",
    "skewness_new = skewness_new.sort_values('Skewness', ascending=[0])\n",
    "\n",
    "fig, ax = plt.subplots(figsize=(8,6))\n",
    "plt.xticks(rotation='90')\n",
    "sns.barplot(x=skewness_new['Variable'], y=skewness_new['Skewness'])\n",
    "plt.ylim(0,25)\n",
    "plt.xlabel('Numerical Variables', fontsize=15)\n",
    "plt.ylabel('Skewness', fontsize=15)\n",
    "plt.title('', fontsize=15)\n",
    "plt.show() # display the plot of the skewness of the attributes after the log transformation"
   ]
  },
  {
   "cell_type": "markdown",
   "id": "7fe8dde4",
   "metadata": {},
   "source": [
    "### Correlation analysis"
   ]
  },
  {
   "cell_type": "code",
   "execution_count": 139,
   "id": "771f8361",
   "metadata": {},
   "outputs": [
    {
     "data": {
      "image/png": "[encoded data removed]",
      "text/plain": [
       "<Figure size 864x648 with 2 Axes>"
      ]
     },
     "metadata": {},
     "output_type": "display_data"
    }
   ],
   "source": [
    "corrmat = data_with_dummies.corr()\n",
    "plt.figure(figsize=(12,9))\n",
    "sns.heatmap(corrmat, vmax=0.9);"
   ]
  },
  {
   "cell_type": "markdown",
   "id": "8a2dfcf6",
   "metadata": {},
   "source": [
    "#### From the heatmap, it can be seen that wether a passenger survived or not has a lot to do with ther sex and their pclass (proxy for socio-economic status). Of course, other attributes are also correlated althought not so much."
   ]
  },
  {
   "cell_type": "code",
   "execution_count": 140,
   "id": "075e3304",
   "metadata": {
    "scrolled": false
   },
   "outputs": [
    {
     "name": "stderr",
     "output_type": "stream",
     "text": [
      "C:\\Users\\Munguambe\\anaconda3\\lib\\site-packages\\seaborn\\matrix.py:1214: UserWarning: ``square=True`` ignored in clustermap\n",
      "  warnings.warn(msg)\n"
     ]
    },
    {
     "data": {
      "text/plain": [
       "<Figure size 576x432 with 0 Axes>"
      ]
     },
     "metadata": {},
     "output_type": "display_data"
    },
    {
     "data": {
      "image/png": "[encoded data removed]",
      "text/plain": [
       "<Figure size 720x720 with 4 Axes>"
      ]
     },
     "metadata": {},
     "output_type": "display_data"
    }
   ],
   "source": [
    "plt.figure(figsize=(8,6))\n",
    "sns.clustermap(corrmat, vmax=0.9, square=True, annot=True, cmap=\"Blues\");"
   ]
  },
  {
   "cell_type": "markdown",
   "id": "29da504f",
   "metadata": {},
   "source": [
    "With the clustermap, it can be seen that the correlation between the attribute survived and the attributes age and pclass is inverse, which means that the lower the values of age and the pclass, the higher the chance of survivel. \n",
    "The same is true for sex, the lower the dummie value I used the higher the value of the survived attribute, that is to say that females have higher chance of having survived than males. \n",
    "These observations are in accord to the observations made earlier in the cells above\n",
    "\n",
    "The Fare is also considerably correlated to the survival."
   ]
  },
  {
   "cell_type": "code",
   "execution_count": 141,
   "id": "160df2aa",
   "metadata": {},
   "outputs": [
    {
     "data": {
      "text/html": [
       "<div>\n",
       "<style scoped>\n",
       "    .dataframe tbody tr th:only-of-type {\n",
       "        vertical-align: middle;\n",
       "    }\n",
       "\n",
       "    .dataframe tbody tr th {\n",
       "        vertical-align: top;\n",
       "    }\n",
       "\n",
       "    .dataframe thead th {\n",
       "        text-align: right;\n",
       "    }\n",
       "</style>\n",
       "<table border=\"1\" class=\"dataframe\">\n",
       "  <thead>\n",
       "    <tr style=\"text-align: right;\">\n",
       "      <th></th>\n",
       "      <th>PassengerId</th>\n",
       "      <th>Survived</th>\n",
       "      <th>Pclass</th>\n",
       "      <th>Sex</th>\n",
       "      <th>Age</th>\n",
       "      <th>SibSp</th>\n",
       "      <th>Parch</th>\n",
       "      <th>Fare</th>\n",
       "      <th>Embarked</th>\n",
       "    </tr>\n",
       "  </thead>\n",
       "  <tbody>\n",
       "    <tr>\n",
       "      <th>count</th>\n",
       "      <td>889.000000</td>\n",
       "      <td>889.000000</td>\n",
       "      <td>889.000000</td>\n",
       "      <td>889.000000</td>\n",
       "      <td>889.000000</td>\n",
       "      <td>889.000000</td>\n",
       "      <td>889.000000</td>\n",
       "      <td>889.000000</td>\n",
       "      <td>889.000000</td>\n",
       "    </tr>\n",
       "    <tr>\n",
       "      <th>mean</th>\n",
       "      <td>446.000000</td>\n",
       "      <td>0.382452</td>\n",
       "      <td>2.311586</td>\n",
       "      <td>0.649044</td>\n",
       "      <td>29.642093</td>\n",
       "      <td>0.282473</td>\n",
       "      <td>0.218171</td>\n",
       "      <td>2.959024</td>\n",
       "      <td>0.226144</td>\n",
       "    </tr>\n",
       "    <tr>\n",
       "      <th>std</th>\n",
       "      <td>256.998173</td>\n",
       "      <td>0.486260</td>\n",
       "      <td>0.834700</td>\n",
       "      <td>0.477538</td>\n",
       "      <td>12.968346</td>\n",
       "      <td>0.463165</td>\n",
       "      <td>0.412014</td>\n",
       "      <td>0.967750</td>\n",
       "      <td>0.379940</td>\n",
       "    </tr>\n",
       "    <tr>\n",
       "      <th>min</th>\n",
       "      <td>1.000000</td>\n",
       "      <td>0.000000</td>\n",
       "      <td>1.000000</td>\n",
       "      <td>0.000000</td>\n",
       "      <td>0.420000</td>\n",
       "      <td>0.000000</td>\n",
       "      <td>0.000000</td>\n",
       "      <td>0.000000</td>\n",
       "      <td>0.000000</td>\n",
       "    </tr>\n",
       "    <tr>\n",
       "      <th>25%</th>\n",
       "      <td>224.000000</td>\n",
       "      <td>0.000000</td>\n",
       "      <td>2.000000</td>\n",
       "      <td>0.000000</td>\n",
       "      <td>22.000000</td>\n",
       "      <td>0.000000</td>\n",
       "      <td>0.000000</td>\n",
       "      <td>2.185579</td>\n",
       "      <td>0.000000</td>\n",
       "    </tr>\n",
       "    <tr>\n",
       "      <th>50%</th>\n",
       "      <td>446.000000</td>\n",
       "      <td>0.000000</td>\n",
       "      <td>3.000000</td>\n",
       "      <td>1.000000</td>\n",
       "      <td>29.642093</td>\n",
       "      <td>0.000000</td>\n",
       "      <td>0.000000</td>\n",
       "      <td>2.737881</td>\n",
       "      <td>0.000000</td>\n",
       "    </tr>\n",
       "    <tr>\n",
       "      <th>75%</th>\n",
       "      <td>668.000000</td>\n",
       "      <td>1.000000</td>\n",
       "      <td>3.000000</td>\n",
       "      <td>1.000000</td>\n",
       "      <td>35.000000</td>\n",
       "      <td>0.693147</td>\n",
       "      <td>0.000000</td>\n",
       "      <td>3.465736</td>\n",
       "      <td>0.693147</td>\n",
       "    </tr>\n",
       "    <tr>\n",
       "      <th>max</th>\n",
       "      <td>891.000000</td>\n",
       "      <td>1.000000</td>\n",
       "      <td>3.000000</td>\n",
       "      <td>1.000000</td>\n",
       "      <td>80.000000</td>\n",
       "      <td>2.197225</td>\n",
       "      <td>1.945910</td>\n",
       "      <td>6.240917</td>\n",
       "      <td>1.098612</td>\n",
       "    </tr>\n",
       "  </tbody>\n",
       "</table>\n",
       "</div>"
      ],
      "text/plain": [
       "       PassengerId    Survived      Pclass         Sex         Age  \\\n",
       "count   889.000000  889.000000  889.000000  889.000000  889.000000   \n",
       "mean    446.000000    0.382452    2.311586    0.649044   29.642093   \n",
       "std     256.998173    0.486260    0.834700    0.477538   12.968346   \n",
       "min       1.000000    0.000000    1.000000    0.000000    0.420000   \n",
       "25%     224.000000    0.000000    2.000000    0.000000   22.000000   \n",
       "50%     446.000000    0.000000    3.000000    1.000000   29.642093   \n",
       "75%     668.000000    1.000000    3.000000    1.000000   35.000000   \n",
       "max     891.000000    1.000000    3.000000    1.000000   80.000000   \n",
       "\n",
       "            SibSp       Parch        Fare    Embarked  \n",
       "count  889.000000  889.000000  889.000000  889.000000  \n",
       "mean     0.282473    0.218171    2.959024    0.226144  \n",
       "std      0.463165    0.412014    0.967750    0.379940  \n",
       "min      0.000000    0.000000    0.000000    0.000000  \n",
       "25%      0.000000    0.000000    2.185579    0.000000  \n",
       "50%      0.000000    0.000000    2.737881    0.000000  \n",
       "75%      0.693147    0.000000    3.465736    0.693147  \n",
       "max      2.197225    1.945910    6.240917    1.098612  "
      ]
     },
     "execution_count": 141,
     "metadata": {},
     "output_type": "execute_result"
    }
   ],
   "source": [
    "# get the summary to see if all data is numerical\n",
    "data_with_dummies.describe()"
   ]
  },
  {
   "cell_type": "code",
   "execution_count": 142,
   "id": "4e5bce2a",
   "metadata": {},
   "outputs": [
    {
     "data": {
      "text/html": [
       "<div>\n",
       "<style scoped>\n",
       "    .dataframe tbody tr th:only-of-type {\n",
       "        vertical-align: middle;\n",
       "    }\n",
       "\n",
       "    .dataframe tbody tr th {\n",
       "        vertical-align: top;\n",
       "    }\n",
       "\n",
       "    .dataframe thead th {\n",
       "        text-align: right;\n",
       "    }\n",
       "</style>\n",
       "<table border=\"1\" class=\"dataframe\">\n",
       "  <thead>\n",
       "    <tr style=\"text-align: right;\">\n",
       "      <th></th>\n",
       "      <th>PassengerId</th>\n",
       "      <th>Survived</th>\n",
       "      <th>Pclass</th>\n",
       "      <th>Sex</th>\n",
       "      <th>Age</th>\n",
       "      <th>SibSp</th>\n",
       "      <th>Parch</th>\n",
       "      <th>Fare</th>\n",
       "      <th>Embarked</th>\n",
       "    </tr>\n",
       "  </thead>\n",
       "  <tbody>\n",
       "    <tr>\n",
       "      <th>0</th>\n",
       "      <td>1</td>\n",
       "      <td>0</td>\n",
       "      <td>3</td>\n",
       "      <td>1</td>\n",
       "      <td>22.0</td>\n",
       "      <td>0.693147</td>\n",
       "      <td>0.0</td>\n",
       "      <td>2.110213</td>\n",
       "      <td>0.000000</td>\n",
       "    </tr>\n",
       "    <tr>\n",
       "      <th>1</th>\n",
       "      <td>2</td>\n",
       "      <td>1</td>\n",
       "      <td>1</td>\n",
       "      <td>0</td>\n",
       "      <td>38.0</td>\n",
       "      <td>0.693147</td>\n",
       "      <td>0.0</td>\n",
       "      <td>4.280593</td>\n",
       "      <td>0.693147</td>\n",
       "    </tr>\n",
       "    <tr>\n",
       "      <th>2</th>\n",
       "      <td>3</td>\n",
       "      <td>1</td>\n",
       "      <td>3</td>\n",
       "      <td>0</td>\n",
       "      <td>26.0</td>\n",
       "      <td>0.000000</td>\n",
       "      <td>0.0</td>\n",
       "      <td>2.188856</td>\n",
       "      <td>0.000000</td>\n",
       "    </tr>\n",
       "    <tr>\n",
       "      <th>3</th>\n",
       "      <td>4</td>\n",
       "      <td>1</td>\n",
       "      <td>1</td>\n",
       "      <td>0</td>\n",
       "      <td>35.0</td>\n",
       "      <td>0.693147</td>\n",
       "      <td>0.0</td>\n",
       "      <td>3.990834</td>\n",
       "      <td>0.000000</td>\n",
       "    </tr>\n",
       "    <tr>\n",
       "      <th>4</th>\n",
       "      <td>5</td>\n",
       "      <td>0</td>\n",
       "      <td>3</td>\n",
       "      <td>1</td>\n",
       "      <td>35.0</td>\n",
       "      <td>0.000000</td>\n",
       "      <td>0.0</td>\n",
       "      <td>2.202765</td>\n",
       "      <td>0.000000</td>\n",
       "    </tr>\n",
       "  </tbody>\n",
       "</table>\n",
       "</div>"
      ],
      "text/plain": [
       "   PassengerId  Survived  Pclass  Sex   Age     SibSp  Parch      Fare  \\\n",
       "0            1         0       3    1  22.0  0.693147    0.0  2.110213   \n",
       "1            2         1       1    0  38.0  0.693147    0.0  4.280593   \n",
       "2            3         1       3    0  26.0  0.000000    0.0  2.188856   \n",
       "3            4         1       1    0  35.0  0.693147    0.0  3.990834   \n",
       "4            5         0       3    1  35.0  0.000000    0.0  2.202765   \n",
       "\n",
       "   Embarked  \n",
       "0  0.000000  \n",
       "1  0.693147  \n",
       "2  0.000000  \n",
       "3  0.000000  \n",
       "4  0.000000  "
      ]
     },
     "execution_count": 142,
     "metadata": {},
     "output_type": "execute_result"
    }
   ],
   "source": [
    "# Store the data in the variable data_cleaned\n",
    "data_cleaned = data_with_dummies.copy()\n",
    "data_cleaned.head()"
   ]
  },
  {
   "cell_type": "code",
   "execution_count": 143,
   "id": "ac74900e",
   "metadata": {},
   "outputs": [],
   "source": [
    "data_cleaned.to_csv('./train_cleaned.csv')"
   ]
  },
  {
   "cell_type": "markdown",
   "id": "1b3a4bdb",
   "metadata": {},
   "source": [
    "# Declare the targets and inputs"
   ]
  },
  {
   "cell_type": "code",
   "execution_count": 144,
   "id": "e8d5ce20",
   "metadata": {},
   "outputs": [
    {
     "data": {
      "text/plain": [
       "(889,)"
      ]
     },
     "execution_count": 144,
     "metadata": {},
     "output_type": "execute_result"
    }
   ],
   "source": [
    "targets = data_cleaned['Survived']\n",
    "targets.shape"
   ]
  },
  {
   "cell_type": "code",
   "execution_count": 145,
   "id": "79d083eb",
   "metadata": {
    "scrolled": true
   },
   "outputs": [
    {
     "data": {
      "text/plain": [
       "Index(['PassengerId', 'Pclass', 'Sex', 'Age', 'SibSp', 'Parch', 'Fare',\n",
       "       'Embarked'],\n",
       "      dtype='object')"
      ]
     },
     "execution_count": 145,
     "metadata": {},
     "output_type": "execute_result"
    }
   ],
   "source": [
    "inputs = data_cleaned.drop(['Survived'], axis=1)\n",
    "inputs.columns"
   ]
  },
  {
   "cell_type": "markdown",
   "id": "07586a74",
   "metadata": {},
   "source": [
    "# The Dataset ready for split"
   ]
  },
  {
   "cell_type": "code",
   "execution_count": 146,
   "id": "57a2a7ac",
   "metadata": {},
   "outputs": [
    {
     "name": "stdout",
     "output_type": "stream",
     "text": [
      "Number of examples:  889\n",
      "Number of variables: 8\n",
      "Variable names:      Index(['PassengerId', 'Pclass', 'Sex', 'Age', 'SibSp', 'Parch', 'Fare',\n",
      "       'Embarked'],\n",
      "      dtype='object')\n",
      "Target values:       [0 1]\n",
      "Class Distribution   [(0, 549), (1, 340)]\n"
     ]
    }
   ],
   "source": [
    "print(\"Number of examples: \", inputs.shape[0])\n",
    "print(\"Number of variables:\", inputs.shape[1])\n",
    "print(\"Variable names:     \", inputs.columns)\n",
    "print(\"Target values:      \", targets.unique())\n",
    "print(\"Class Distribution  \", [(x,sum(targets==x)) for x in np.unique(targets)])"
   ]
  },
  {
   "cell_type": "markdown",
   "id": "8b4e8f93",
   "metadata": {},
   "source": [
    "# Plot each input against the target"
   ]
  },
  {
   "cell_type": "code",
   "execution_count": 147,
   "id": "56f3d576",
   "metadata": {
    "scrolled": true
   },
   "outputs": [
    {
     "data": {
      "text/plain": [
       "Text(0.5, 1.0, 'Survived and Embarked')"
      ]
     },
     "execution_count": 147,
     "metadata": {},
     "output_type": "execute_result"
    },
    {
     "data": {
      "image/png": "[encoded data removed]",
      "text/plain": [
       "<Figure size 1080x1080 with 6 Axes>"
      ]
     },
     "metadata": {},
     "output_type": "display_data"
    }
   ],
   "source": [
    "fig, ((ax1,ax2),(ax3,ax4),(ax5,ax6)) = plt.subplots(nrows=3,ncols=2, sharey=True, figsize =(15,15)) # share survived as y\n",
    "ax1.scatter(data_cleaned['Pclass'],data_cleaned['Survived'])\n",
    "ax1.set_title('Survived and Pclass')\n",
    "ax2.scatter(data_cleaned['Sex'],data_cleaned['Survived'])\n",
    "ax2.set_title('Survived and Sex')\n",
    "ax3.scatter(data_cleaned['Age'],data_cleaned['Survived'])\n",
    "ax3.set_title('Survived and Age')\n",
    "ax4.scatter(data_cleaned['Parch'],data_cleaned['Survived'])\n",
    "ax4.set_title('Survived and Parch')\n",
    "ax5.scatter(data_cleaned['Fare'],data_cleaned['Survived'])\n",
    "ax5.set_title('Survived and Fare')\n",
    "ax6.scatter(data_cleaned['Embarked'],data_cleaned['Survived'])\n",
    "ax6.set_title('Survived and Embarked')"
   ]
  },
  {
   "cell_type": "markdown",
   "id": "043ff2ad",
   "metadata": {},
   "source": [
    "### Normalize the inputs"
   ]
  },
  {
   "cell_type": "code",
   "execution_count": 148,
   "id": "7ade278e",
   "metadata": {
    "scrolled": true
   },
   "outputs": [
    {
     "data": {
      "text/plain": [
       "array([[-1.73250451,  0.82520863,  0.73534203, ..., -0.52982206,\n",
       "        -0.87759093, -0.59554419],\n",
       "       [-1.72861124, -1.57221121, -1.35991138, ..., -0.52982206,\n",
       "         1.36637963,  1.22984173],\n",
       "       [-1.72471797,  0.82520863, -1.35991138, ..., -0.52982206,\n",
       "        -0.79628127, -0.59554419],\n",
       "       ...,\n",
       "       [ 1.72471797,  0.82520863, -1.35991138, ...,  2.13812299,\n",
       "         0.24566301, -0.59554419],\n",
       "       [ 1.72861124, -1.57221121,  0.73534203, ..., -0.52982206,\n",
       "         0.49106801,  1.22984173],\n",
       "       [ 1.73250451,  0.82520863,  0.73534203, ..., -0.52982206,\n",
       "        -0.81675534,  2.29762404]])"
      ]
     },
     "execution_count": 148,
     "metadata": {},
     "output_type": "execute_result"
    }
   ],
   "source": [
    "from sklearn.preprocessing import StandardScaler\n",
    "scaler = StandardScaler()\n",
    "scaler.fit(inputs)\n",
    "inputs_scaled = scaler.transform(inputs)\n",
    "inputs_scaled"
   ]
  },
  {
   "cell_type": "markdown",
   "id": "0c8d802b",
   "metadata": {},
   "source": [
    "### Split the data into train and test"
   ]
  },
  {
   "cell_type": "code",
   "execution_count": 149,
   "id": "37291f1b",
   "metadata": {},
   "outputs": [],
   "source": [
    "from sklearn.model_selection import train_test_split\n",
    "\n",
    "# I'll split 20% for test and 80% for train\n",
    "x_train, x_test, y_train, y_test = train_test_split(inputs_scaled, targets, test_size=0.2, random_state=365)"
   ]
  },
  {
   "cell_type": "markdown",
   "id": "bac8600e",
   "metadata": {},
   "source": [
    "# Build and Train the Model"
   ]
  },
  {
   "cell_type": "code",
   "execution_count": 150,
   "id": "c3370c55",
   "metadata": {},
   "outputs": [],
   "source": [
    "def get_model_evaluation(true_value, prediction):\n",
    "    occuracy = sum(true_value==prediction)/(sum(true_value==prediction) + sum(true_value!=prediction))*100\n",
    "    precision = abs(sum(prediction==0)-sum(prediction!=true_value))/(abs(sum(prediction==0)-sum(prediction!=true_value))+abs(sum(prediction==0)-sum(prediction==true_value)))\n",
    "    recall = abs(sum(prediction==0)-sum(prediction!=true_value))/(abs(sum(prediction==0)-sum(prediction!=true_value))+abs(sum(prediction==1)-sum(prediction==true_value)))\n",
    "    f1_measure = 2*precision*recall/(recall+precision)\n",
    "\n",
    "    return f'Occuracy: {occuracy}\\nPrecision: {precision}\\nRecall: {recall}\\nF1-measure: {f1_measure}'"
   ]
  },
  {
   "cell_type": "code",
   "execution_count": 151,
   "id": "a1eca24b",
   "metadata": {},
   "outputs": [],
   "source": [
    "def get_count_of_wrong_correct_predictions(targets, predictions):\n",
    "#     data_with_predictions['Target'] =  targets.values\n",
    "#     data_with_predictions['Prediction'] =  predictions\n",
    "    return print(f\"Wrong Predictions: {(targets.values!=predictions).sum()}\\nCorrect Predictions: {(targets.values==predictions).sum()}\")"
   ]
  },
  {
   "cell_type": "markdown",
   "id": "fd0ad38a",
   "metadata": {},
   "source": [
    "## Logistic Regression"
   ]
  },
  {
   "cell_type": "code",
   "execution_count": 152,
   "id": "b776bc7c",
   "metadata": {
    "scrolled": true
   },
   "outputs": [
    {
     "data": {
      "text/plain": [
       "LogisticRegression(C=100000000000.0, random_state=1234)"
      ]
     },
     "execution_count": 152,
     "metadata": {},
     "output_type": "execute_result"
    }
   ],
   "source": [
    "# Create the model\n",
    "reg_logistic = linear_model.LogisticRegression(C=10e10, random_state=1234)\n",
    "\n",
    "# Fit the model\n",
    "reg_logistic.fit(x_train,y_train)"
   ]
  },
  {
   "cell_type": "code",
   "execution_count": 153,
   "id": "4ced0ed5",
   "metadata": {
    "scrolled": true
   },
   "outputs": [
    {
     "data": {
      "text/plain": [
       "array([1, 0, 0, 0, 1, 1, 0, 0, 1, 1, 0, 0, 1, 0, 1, 1, 0, 0, 1, 1, 1, 0,\n",
       "       1, 0, 0, 0, 0, 0, 0, 1, 0, 1, 0, 0, 0, 0, 0, 0, 1, 0, 0, 1, 1, 0,\n",
       "       0, 1, 0, 0, 0, 0, 0, 0, 0, 1, 0, 0, 0, 0, 1, 0, 0, 0, 0, 0, 0, 0,\n",
       "       0, 1, 0, 0, 1, 0, 1, 1, 0, 0, 1, 0, 1, 1, 0, 0, 1, 1, 0, 1, 0, 0,\n",
       "       0, 1, 0, 0, 0, 0, 1, 1, 0, 1, 0, 1, 1, 0, 0, 1, 1, 0, 0, 1, 0, 0,\n",
       "       1, 1, 0, 1, 0, 0, 0, 1, 0, 1, 0, 0, 0, 0, 0, 0, 0, 0, 0, 1, 0, 0,\n",
       "       0, 0, 0, 0, 1, 0, 0, 1, 0, 0, 0, 1, 0, 0, 0, 0, 1, 1, 0, 0, 1, 0,\n",
       "       1, 0, 0, 1, 0, 0, 0, 1, 0, 0, 0, 0, 0, 1, 1, 0, 0, 1, 0, 0, 1, 0,\n",
       "       0, 0], dtype=int64)"
      ]
     },
     "execution_count": 153,
     "metadata": {},
     "output_type": "execute_result"
    }
   ],
   "source": [
    "# Predict using the model\n",
    "y_hat = reg_logistic.predict(x_test)\n",
    "y_hat"
   ]
  },
  {
   "cell_type": "code",
   "execution_count": 154,
   "id": "bbbc9eba",
   "metadata": {},
   "outputs": [
    {
     "data": {
      "text/plain": [
       "(178,)"
      ]
     },
     "execution_count": 154,
     "metadata": {},
     "output_type": "execute_result"
    }
   ],
   "source": [
    "y_test.shape"
   ]
  },
  {
   "cell_type": "markdown",
   "id": "a460f0e1",
   "metadata": {},
   "source": [
    "# Results"
   ]
  },
  {
   "cell_type": "code",
   "execution_count": 155,
   "id": "7d6898c0",
   "metadata": {
    "scrolled": true
   },
   "outputs": [
    {
     "data": {
      "text/plain": [
       "array([[ 0.00745251, -0.7994164 , -1.25128574, -0.47930643, -0.34552119,\n",
       "        -0.08190951,  0.23694209,  0.20953593]])"
      ]
     },
     "execution_count": 155,
     "metadata": {},
     "output_type": "execute_result"
    }
   ],
   "source": [
    "# Get the weights\n",
    "reg_logistic.coef_"
   ]
  },
  {
   "cell_type": "code",
   "execution_count": 178,
   "id": "84a3b3ea",
   "metadata": {
    "scrolled": true
   },
   "outputs": [
    {
     "data": {
      "text/html": [
       "<div>\n",
       "<style scoped>\n",
       "    .dataframe tbody tr th:only-of-type {\n",
       "        vertical-align: middle;\n",
       "    }\n",
       "\n",
       "    .dataframe tbody tr th {\n",
       "        vertical-align: top;\n",
       "    }\n",
       "\n",
       "    .dataframe thead th {\n",
       "        text-align: right;\n",
       "    }\n",
       "</style>\n",
       "<table border=\"1\" class=\"dataframe\">\n",
       "  <thead>\n",
       "    <tr style=\"text-align: right;\">\n",
       "      <th></th>\n",
       "      <th>Features</th>\n",
       "      <th>Weights</th>\n",
       "    </tr>\n",
       "  </thead>\n",
       "  <tbody>\n",
       "    <tr>\n",
       "      <th>0</th>\n",
       "      <td>PassengerId</td>\n",
       "      <td>0.007453</td>\n",
       "    </tr>\n",
       "    <tr>\n",
       "      <th>1</th>\n",
       "      <td>Pclass</td>\n",
       "      <td>-0.799416</td>\n",
       "    </tr>\n",
       "    <tr>\n",
       "      <th>2</th>\n",
       "      <td>Sex</td>\n",
       "      <td>-1.251286</td>\n",
       "    </tr>\n",
       "    <tr>\n",
       "      <th>3</th>\n",
       "      <td>Age</td>\n",
       "      <td>-0.479306</td>\n",
       "    </tr>\n",
       "    <tr>\n",
       "      <th>4</th>\n",
       "      <td>SibSp</td>\n",
       "      <td>-0.345521</td>\n",
       "    </tr>\n",
       "    <tr>\n",
       "      <th>5</th>\n",
       "      <td>Parch</td>\n",
       "      <td>-0.081910</td>\n",
       "    </tr>\n",
       "    <tr>\n",
       "      <th>6</th>\n",
       "      <td>Fare</td>\n",
       "      <td>0.236942</td>\n",
       "    </tr>\n",
       "    <tr>\n",
       "      <th>7</th>\n",
       "      <td>Embarked</td>\n",
       "      <td>0.209536</td>\n",
       "    </tr>\n",
       "  </tbody>\n",
       "</table>\n",
       "</div>"
      ],
      "text/plain": [
       "      Features   Weights\n",
       "0  PassengerId  0.007453\n",
       "1       Pclass -0.799416\n",
       "2          Sex -1.251286\n",
       "3          Age -0.479306\n",
       "4        SibSp -0.345521\n",
       "5        Parch -0.081910\n",
       "6         Fare  0.236942\n",
       "7     Embarked  0.209536"
      ]
     },
     "execution_count": 178,
     "metadata": {},
     "output_type": "execute_result"
    }
   ],
   "source": [
    "# Create a regression summary where we can compare them with one-another\n",
    "reg_summary = pd.DataFrame(inputs.columns.values, columns=['Features'])\n",
    "reg_summary['Weights'] = reg_logistic.coef_[0]\n",
    "reg_summary"
   ]
  },
  {
   "cell_type": "markdown",
   "id": "13ca981d",
   "metadata": {},
   "source": [
    "From the weights, I can observe that the higher the value for the features Pclass, sex, Age, SibSp, and Parch, the lower the chance of survivel.\n",
    "And the higher the values of Fare and Embarked, the higher the chance of survivel"
   ]
  },
  {
   "cell_type": "code",
   "execution_count": 157,
   "id": "08ac75bc",
   "metadata": {},
   "outputs": [
    {
     "name": "stdout",
     "output_type": "stream",
     "text": [
      "Wrong Predictions: 31\n",
      "Correct Predictions: 147\n"
     ]
    }
   ],
   "source": [
    "# get the number of correct and wrong predictions\n",
    "get_count_of_wrong_correct_predictions(y_test, y_hat)"
   ]
  },
  {
   "cell_type": "code",
   "execution_count": 177,
   "id": "31342d7f",
   "metadata": {
    "scrolled": false
   },
   "outputs": [
    {
     "name": "stdout",
     "output_type": "stream",
     "text": [
      "Train Evaluation:\n",
      "Occuracy: 79.46554149085794\n",
      "Precision: 0.7446300715990454\n",
      "Recall: 0.5\n",
      "F1-measure: 0.5982742090124641\n",
      "==================\n",
      "Test Evaluation:\n",
      "Occuracy: 82.58426966292134\n",
      "Precision: 0.7672413793103449\n",
      "Recall: 0.5\n",
      "F1-measure: 0.6054421768707484\n"
     ]
    }
   ],
   "source": [
    "# get the evaluation of the model\n",
    "print(f'Train Evaluation:\\n{get_model_evaluation(y_train,reg_logistic.predict(x_train))}\\n==================\\nTest Evaluation:\\n{get_model_evaluation(y_test,y_hat)}')"
   ]
  },
  {
   "cell_type": "markdown",
   "id": "1c569c82",
   "metadata": {},
   "source": [
    "There's no overfit nor underfit, and a considerable improvement was seen in the test evaluation"
   ]
  },
  {
   "cell_type": "markdown",
   "id": "d5b7311e",
   "metadata": {},
   "source": [
    "## Decision Tree"
   ]
  },
  {
   "cell_type": "code",
   "execution_count": 159,
   "id": "ac4b34db",
   "metadata": {},
   "outputs": [],
   "source": [
    "from sklearn.tree import DecisionTreeClassifier\n",
    "\n",
    "# create the model and fit the data\n",
    "decision_tree = DecisionTreeClassifier().fit(x_train, y_train)\n",
    "tree = decision_tree.predict(x_test)"
   ]
  },
  {
   "cell_type": "code",
   "execution_count": 176,
   "id": "d224acf2",
   "metadata": {
    "scrolled": false
   },
   "outputs": [
    {
     "name": "stdout",
     "output_type": "stream",
     "text": [
      "Train Evaluation:\n",
      "Occuracy: 100.0\n",
      "Precision: 0.6188466947960619\n",
      "Recall: 0.5\n",
      "F1-measure: 0.5531112507856694\n",
      "==================\n",
      "Test Evaluation:\n",
      "Occuracy: 82.58426966292134\n",
      "Precision: 0.8189655172413793\n",
      "Recall: 0.5\n",
      "F1-measure: 0.6209150326797385\n"
     ]
    }
   ],
   "source": [
    "print(f'Train Evaluation:\\n{get_model_evaluation(y_train,decision_tree.predict(x_train))}\\n==================\\nTest Evaluation:\\n{get_model_evaluation(y_test,tree)}')"
   ]
  },
  {
   "cell_type": "markdown",
   "id": "679a6616",
   "metadata": {},
   "source": [
    "The model overfit the data, which means that for this data, a decision tree classifier is not suitable"
   ]
  },
  {
   "cell_type": "markdown",
   "id": "9b6195ee",
   "metadata": {},
   "source": [
    "## KNN"
   ]
  },
  {
   "cell_type": "code",
   "execution_count": 174,
   "id": "3fc2eec3",
   "metadata": {
    "scrolled": true
   },
   "outputs": [
    {
     "name": "stdout",
     "output_type": "stream",
     "text": [
      "==================\n",
      "Number Of Neighbors: 1\n",
      "Train Occuracy: 82.70042194092827\n",
      "Test Occuracy: 82.02247191011236\n",
      "==================\n",
      "Number Of Neighbors: 2\n",
      "Train Occuracy: 82.70042194092827\n",
      "Test Occuracy: 82.02247191011236\n",
      "==================\n",
      "Number Of Neighbors: 3\n",
      "Train Occuracy: 82.70042194092827\n",
      "Test Occuracy: 82.02247191011236\n",
      "==================\n",
      "Number Of Neighbors: 4\n",
      "Train Occuracy: 82.70042194092827\n",
      "Test Occuracy: 82.02247191011236\n",
      "==================\n",
      "Number Of Neighbors: 5\n",
      "Train Occuracy: 82.70042194092827\n",
      "Test Occuracy: 82.02247191011236\n",
      "==================\n",
      "Number Of Neighbors: 6\n",
      "Train Occuracy: 82.70042194092827\n",
      "Test Occuracy: 82.02247191011236\n",
      "==================\n",
      "Number Of Neighbors: 7\n",
      "Train Occuracy: 82.70042194092827\n",
      "Test Occuracy: 82.02247191011236\n",
      "==================\n",
      "Number Of Neighbors: 8\n",
      "Train Occuracy: 82.70042194092827\n",
      "Test Occuracy: 82.02247191011236\n",
      "==================\n",
      "Number Of Neighbors: 9\n",
      "Train Occuracy: 82.70042194092827\n",
      "Test Occuracy: 82.02247191011236\n"
     ]
    }
   ],
   "source": [
    "from sklearn.neighbors import KNeighborsClassifier\n",
    "\n",
    "num_neighbors = 10\n",
    "for num in range(1,num_neighbors):\n",
    "    knn = KNeighborsClassifier(n_neighbors = num_neighbors)\n",
    "    knn.fit(x_train, y_train)\n",
    "    knn_prediction = knn.predict(x_test)\n",
    "    print(f'==================\\nNumber Of Neighbors: {num}\\nTrain Occuracy: {knn.score(x_train, y_train)*100}\\nTest Occuracy: {knn.score(x_test, y_test)*100}')"
   ]
  },
  {
   "cell_type": "markdown",
   "id": "4114630d",
   "metadata": {},
   "source": [
    "No overfit nor underfit for any number of choosen neighbors, and the occuracy is acceptable.\n",
    "I also observed that regardless of the number of neighbors, there's no change in the occuracy of the train or test"
   ]
  },
  {
   "cell_type": "markdown",
   "id": "a8aa9859",
   "metadata": {},
   "source": [
    "## Random Forest"
   ]
  },
  {
   "cell_type": "code",
   "execution_count": 175,
   "id": "bfea725b",
   "metadata": {
    "scrolled": true
   },
   "outputs": [
    {
     "name": "stdout",
     "output_type": "stream",
     "text": [
      "==================\n",
      "Number Of Estimators: 1\n",
      "Train Occuracy: 99.85935302390999\n",
      "Test Occuracy: 82.58426966292134\n",
      "==================\n",
      "Number Of Estimators: 2\n",
      "Train Occuracy: 99.85935302390999\n",
      "Test Occuracy: 80.89887640449437\n",
      "==================\n",
      "Number Of Estimators: 3\n",
      "Train Occuracy: 99.85935302390999\n",
      "Test Occuracy: 82.02247191011236\n",
      "==================\n",
      "Number Of Estimators: 4\n",
      "Train Occuracy: 100.0\n",
      "Test Occuracy: 83.70786516853933\n",
      "==================\n",
      "Number Of Estimators: 5\n",
      "Train Occuracy: 100.0\n",
      "Test Occuracy: 83.70786516853933\n",
      "==================\n",
      "Number Of Estimators: 6\n",
      "Train Occuracy: 100.0\n",
      "Test Occuracy: 82.02247191011236\n",
      "==================\n",
      "Number Of Estimators: 7\n",
      "Train Occuracy: 99.71870604781998\n",
      "Test Occuracy: 83.70786516853933\n",
      "==================\n",
      "Number Of Estimators: 8\n",
      "Train Occuracy: 100.0\n",
      "Test Occuracy: 82.02247191011236\n",
      "==================\n",
      "Number Of Estimators: 9\n",
      "Train Occuracy: 100.0\n",
      "Test Occuracy: 82.58426966292134\n",
      "==================\n",
      "Number Of Estimators: 10\n",
      "Train Occuracy: 99.57805907172997\n",
      "Test Occuracy: 84.26966292134831\n",
      "==================\n",
      "Number Of Estimators: 11\n",
      "Train Occuracy: 100.0\n",
      "Test Occuracy: 83.70786516853933\n",
      "==================\n",
      "Number Of Estimators: 12\n",
      "Train Occuracy: 100.0\n",
      "Test Occuracy: 82.58426966292134\n",
      "==================\n",
      "Number Of Estimators: 13\n",
      "Train Occuracy: 99.85935302390999\n",
      "Test Occuracy: 83.70786516853933\n",
      "==================\n",
      "Number Of Estimators: 14\n",
      "Train Occuracy: 100.0\n",
      "Test Occuracy: 82.58426966292134\n",
      "==================\n",
      "Number Of Estimators: 15\n",
      "Train Occuracy: 100.0\n",
      "Test Occuracy: 84.8314606741573\n",
      "==================\n",
      "Number Of Estimators: 16\n",
      "Train Occuracy: 99.85935302390999\n",
      "Test Occuracy: 83.70786516853933\n",
      "==================\n",
      "Number Of Estimators: 17\n",
      "Train Occuracy: 99.57805907172997\n",
      "Test Occuracy: 84.26966292134831\n",
      "==================\n",
      "Number Of Estimators: 18\n",
      "Train Occuracy: 100.0\n",
      "Test Occuracy: 83.14606741573034\n",
      "==================\n",
      "Number Of Estimators: 19\n",
      "Train Occuracy: 99.85935302390999\n",
      "Test Occuracy: 83.70786516853933\n",
      "==================\n",
      "Number Of Estimators: 20\n",
      "Train Occuracy: 99.85935302390999\n",
      "Test Occuracy: 84.26966292134831\n",
      "==================\n",
      "Number Of Estimators: 21\n",
      "Train Occuracy: 100.0\n",
      "Test Occuracy: 84.26966292134831\n",
      "==================\n",
      "Number Of Estimators: 22\n",
      "Train Occuracy: 99.71870604781998\n",
      "Test Occuracy: 84.26966292134831\n",
      "==================\n",
      "Number Of Estimators: 23\n",
      "Train Occuracy: 100.0\n",
      "Test Occuracy: 83.70786516853933\n",
      "==================\n",
      "Number Of Estimators: 24\n",
      "Train Occuracy: 99.71870604781998\n",
      "Test Occuracy: 82.58426966292134\n",
      "==================\n",
      "Number Of Estimators: 25\n",
      "Train Occuracy: 99.85935302390999\n",
      "Test Occuracy: 82.58426966292134\n",
      "==================\n",
      "Number Of Estimators: 26\n",
      "Train Occuracy: 100.0\n",
      "Test Occuracy: 83.14606741573034\n",
      "==================\n",
      "Number Of Estimators: 27\n",
      "Train Occuracy: 99.85935302390999\n",
      "Test Occuracy: 83.14606741573034\n",
      "==================\n",
      "Number Of Estimators: 28\n",
      "Train Occuracy: 99.85935302390999\n",
      "Test Occuracy: 83.70786516853933\n",
      "==================\n",
      "Number Of Estimators: 29\n",
      "Train Occuracy: 100.0\n",
      "Test Occuracy: 82.02247191011236\n",
      "==================\n",
      "Number Of Estimators: 30\n",
      "Train Occuracy: 100.0\n",
      "Test Occuracy: 84.26966292134831\n",
      "==================\n",
      "Number Of Estimators: 31\n",
      "Train Occuracy: 100.0\n",
      "Test Occuracy: 84.8314606741573\n",
      "==================\n",
      "Number Of Estimators: 32\n",
      "Train Occuracy: 99.85935302390999\n",
      "Test Occuracy: 83.14606741573034\n",
      "==================\n",
      "Number Of Estimators: 33\n",
      "Train Occuracy: 99.85935302390999\n",
      "Test Occuracy: 83.14606741573034\n",
      "==================\n",
      "Number Of Estimators: 34\n",
      "Train Occuracy: 100.0\n",
      "Test Occuracy: 83.14606741573034\n",
      "==================\n",
      "Number Of Estimators: 35\n",
      "Train Occuracy: 99.85935302390999\n",
      "Test Occuracy: 82.58426966292134\n",
      "==================\n",
      "Number Of Estimators: 36\n",
      "Train Occuracy: 100.0\n",
      "Test Occuracy: 83.70786516853933\n",
      "==================\n",
      "Number Of Estimators: 37\n",
      "Train Occuracy: 100.0\n",
      "Test Occuracy: 84.8314606741573\n",
      "==================\n",
      "Number Of Estimators: 38\n",
      "Train Occuracy: 100.0\n",
      "Test Occuracy: 83.70786516853933\n",
      "==================\n",
      "Number Of Estimators: 39\n",
      "Train Occuracy: 100.0\n",
      "Test Occuracy: 82.58426966292134\n",
      "==================\n",
      "Number Of Estimators: 40\n",
      "Train Occuracy: 100.0\n",
      "Test Occuracy: 83.14606741573034\n",
      "==================\n",
      "Number Of Estimators: 41\n",
      "Train Occuracy: 100.0\n",
      "Test Occuracy: 83.70786516853933\n",
      "==================\n",
      "Number Of Estimators: 42\n",
      "Train Occuracy: 100.0\n",
      "Test Occuracy: 84.26966292134831\n",
      "==================\n",
      "Number Of Estimators: 43\n",
      "Train Occuracy: 100.0\n",
      "Test Occuracy: 84.26966292134831\n",
      "==================\n",
      "Number Of Estimators: 44\n",
      "Train Occuracy: 100.0\n",
      "Test Occuracy: 82.58426966292134\n",
      "==================\n",
      "Number Of Estimators: 45\n",
      "Train Occuracy: 99.85935302390999\n",
      "Test Occuracy: 83.14606741573034\n",
      "==================\n",
      "Number Of Estimators: 46\n",
      "Train Occuracy: 100.0\n",
      "Test Occuracy: 80.89887640449437\n",
      "==================\n",
      "Number Of Estimators: 47\n",
      "Train Occuracy: 100.0\n",
      "Test Occuracy: 81.46067415730337\n",
      "==================\n",
      "Number Of Estimators: 48\n",
      "Train Occuracy: 99.85935302390999\n",
      "Test Occuracy: 84.26966292134831\n",
      "==================\n",
      "Number Of Estimators: 49\n",
      "Train Occuracy: 99.85935302390999\n",
      "Test Occuracy: 83.14606741573034\n"
     ]
    }
   ],
   "source": [
    "from sklearn.ensemble import RandomForestClassifier\n",
    "\n",
    "num_estimators = 50\n",
    "for num in range(1,num_estimators):\n",
    "    random_forest = RandomForestClassifier(n_estimators=num_estimators)\n",
    "    random_forest.fit(x_train,y_train)\n",
    "    rf_prediction = random_forest.predict(x_test)\n",
    "    print(f'==================\\nNumber Of Estimators: {num}\\nTrain Occuracy: {random_forest.score(x_train, y_train)*100}\\nTest Occuracy: {random_forest.score(x_test, y_test)*100}')"
   ]
  },
  {
   "cell_type": "markdown",
   "id": "c7b2feb8",
   "metadata": {},
   "source": [
    "There's overfit but no underfit for any number of choosen estimators. For any change in the number of estimators, it can be seen that the model still overfit the data, but there's some improvements from 1 estimator to 4 estimator, which means that for this data, the ideal number of estimator is 4, more than that is useless."
   ]
  },
  {
   "cell_type": "markdown",
   "id": "3d777d92",
   "metadata": {},
   "source": [
    "# Comments\n",
    "For this data, the models that performed better were the KNN and Logistic models, of which, the KNN model performed better in both train and almost the same in test.\n",
    "From the results obtained for both models created using a Decision tree and a Random Forest, It can be seen these models are not suitable for this data, or my treatment during the preprocessment of the data was not suitable to work with these classifiers."
   ]
  }
 ],
 "metadata": {
  "kernelspec": {
   "display_name": "Python 3 (ipykernel)",
   "language": "python",
   "name": "python3"
  },
  "language_info": {
   "codemirror_mode": {
    "name": "ipython",
    "version": 3
   },
   "file_extension": ".py",
   "mimetype": "text/x-python",
   "name": "python",
   "nbconvert_exporter": "python",
   "pygments_lexer": "ipython3",
   "version": "3.10.4"
  }
 },
 "nbformat": 4,
 "nbformat_minor": 5
}
