{
 "cells": [
  {
   "cell_type": "markdown",
   "id": "7260dcd6",
   "metadata": {},
   "source": [
    "# import the relevant libraries"
   ]
  },
  {
   "cell_type": "code",
   "execution_count": 99,
   "id": "c72451e4",
   "metadata": {},
   "outputs": [],
   "source": [
    "import tensorflow as tf\n",
    "import numpy as np"
   ]
  },
  {
   "cell_type": "markdown",
   "id": "704ba0a2",
   "metadata": {},
   "source": [
    "# load the data"
   ]
  },
  {
   "cell_type": "code",
   "execution_count": 100,
   "id": "453c6774",
   "metadata": {},
   "outputs": [],
   "source": [
    "npz = np.load('absenteeism_data_train.npz')\n",
    "train_inputs = npz['inputs'].astype('float')\n",
    "train_targets = npz['targets'].astype('int')\n",
    "train_data = npz\n",
    "\n",
    "npz = np.load('absenteeism_data_test.npz')\n",
    "test_inputs = npz['inputs'].astype('float')\n",
    "test_targets = npz['targets'].astype('int')\n",
    "\n",
    "npz = np.load('absenteeism_data_validation.npz')\n",
    "validation_inputs = npz['inputs'].astype('float')\n",
    "validation_targets = npz['targets'].astype('int')"
   ]
  },
  {
   "cell_type": "markdown",
   "id": "563e96bc",
   "metadata": {},
   "source": [
    "# create the model"
   ]
  },
  {
   "cell_type": "code",
   "execution_count": 101,
   "id": "7ee56979",
   "metadata": {},
   "outputs": [
    {
     "data": {
      "text/plain": [
       "(70, 14)"
      ]
     },
     "execution_count": 101,
     "metadata": {},
     "output_type": "execute_result"
    }
   ],
   "source": [
    "validation_inputs.shape"
   ]
  },
  {
   "cell_type": "code",
   "execution_count": 102,
   "id": "139fc1bc",
   "metadata": {},
   "outputs": [
    {
     "data": {
      "text/plain": [
       "(70,)"
      ]
     },
     "execution_count": 102,
     "metadata": {},
     "output_type": "execute_result"
    }
   ],
   "source": [
    "validation_targets.shape"
   ]
  },
  {
   "cell_type": "code",
   "execution_count": 103,
   "id": "4497b349",
   "metadata": {},
   "outputs": [],
   "source": [
    "output_size = 1\n",
    "input_size = 14\n",
    "hidden_layer_size = 100\n",
    "\n",
    "model = tf.keras.Sequential([\n",
    "    tf.keras.layers.Dense(hidden_layer_size, activation='elu'),\n",
    "    tf.keras.layers.Dense(hidden_layer_size, activation='softmax'),\n",
    "    tf.keras.layers.Dense(output_size, activation='sigmoid')\n",
    "])\n",
    "\n",
    "model.compile(optimizer='adam', loss='binary_crossentropy', metrics=['accuracy'])"
   ]
  },
  {
   "cell_type": "markdown",
   "id": "17de0238",
   "metadata": {},
   "source": [
    "# train the model"
   ]
  },
  {
   "cell_type": "code",
   "execution_count": 104,
   "id": "f2f88add",
   "metadata": {},
   "outputs": [
    {
     "name": "stdout",
     "output_type": "stream",
     "text": [
      "Epoch 1/100\n",
      "5/5 - 1s - loss: 0.6920 - accuracy: 0.5304 - val_loss: 0.6917 - val_accuracy: 0.4714 - 903ms/epoch - 181ms/step\n",
      "Epoch 2/100\n",
      "5/5 - 0s - loss: 0.6907 - accuracy: 0.5321 - val_loss: 0.6899 - val_accuracy: 0.5000 - 44ms/epoch - 9ms/step\n",
      "Epoch 3/100\n",
      "5/5 - 0s - loss: 0.6894 - accuracy: 0.5446 - val_loss: 0.6883 - val_accuracy: 0.5143 - 45ms/epoch - 9ms/step\n",
      "Epoch 4/100\n",
      "5/5 - 0s - loss: 0.6881 - accuracy: 0.5679 - val_loss: 0.6863 - val_accuracy: 0.5286 - 49ms/epoch - 10ms/step\n",
      "Epoch 5/100\n",
      "5/5 - 0s - loss: 0.6868 - accuracy: 0.5786 - val_loss: 0.6843 - val_accuracy: 0.5429 - 46ms/epoch - 9ms/step\n",
      "Epoch 6/100\n",
      "5/5 - 0s - loss: 0.6853 - accuracy: 0.5911 - val_loss: 0.6821 - val_accuracy: 0.5857 - 47ms/epoch - 9ms/step\n",
      "Epoch 7/100\n",
      "5/5 - 0s - loss: 0.6837 - accuracy: 0.5946 - val_loss: 0.6795 - val_accuracy: 0.6143 - 45ms/epoch - 9ms/step\n",
      "Epoch 8/100\n",
      "5/5 - 0s - loss: 0.6819 - accuracy: 0.6036 - val_loss: 0.6768 - val_accuracy: 0.6429 - 44ms/epoch - 9ms/step\n",
      "Epoch 9/100\n",
      "5/5 - 0s - loss: 0.6800 - accuracy: 0.6214 - val_loss: 0.6739 - val_accuracy: 0.7143 - 42ms/epoch - 8ms/step\n",
      "Epoch 10/100\n",
      "5/5 - 0s - loss: 0.6779 - accuracy: 0.6375 - val_loss: 0.6706 - val_accuracy: 0.7000 - 42ms/epoch - 8ms/step\n",
      "Epoch 11/100\n",
      "5/5 - 0s - loss: 0.6756 - accuracy: 0.6500 - val_loss: 0.6672 - val_accuracy: 0.6857 - 48ms/epoch - 10ms/step\n",
      "Epoch 12/100\n",
      "5/5 - 0s - loss: 0.6733 - accuracy: 0.6554 - val_loss: 0.6635 - val_accuracy: 0.7000 - 43ms/epoch - 9ms/step\n",
      "Epoch 13/100\n",
      "5/5 - 0s - loss: 0.6707 - accuracy: 0.6554 - val_loss: 0.6595 - val_accuracy: 0.7143 - 45ms/epoch - 9ms/step\n",
      "Epoch 14/100\n",
      "5/5 - 0s - loss: 0.6679 - accuracy: 0.6571 - val_loss: 0.6556 - val_accuracy: 0.7286 - 44ms/epoch - 9ms/step\n",
      "Epoch 15/100\n",
      "5/5 - 0s - loss: 0.6653 - accuracy: 0.6643 - val_loss: 0.6515 - val_accuracy: 0.7429 - 45ms/epoch - 9ms/step\n",
      "Epoch 16/100\n",
      "5/5 - 0s - loss: 0.6624 - accuracy: 0.6607 - val_loss: 0.6476 - val_accuracy: 0.7571 - 50ms/epoch - 10ms/step\n",
      "Epoch 17/100\n",
      "5/5 - 0s - loss: 0.6597 - accuracy: 0.6696 - val_loss: 0.6436 - val_accuracy: 0.7571 - 52ms/epoch - 10ms/step\n",
      "Epoch 18/100\n",
      "5/5 - 0s - loss: 0.6569 - accuracy: 0.6786 - val_loss: 0.6395 - val_accuracy: 0.7857 - 42ms/epoch - 8ms/step\n",
      "Epoch 19/100\n",
      "5/5 - 0s - loss: 0.6539 - accuracy: 0.6821 - val_loss: 0.6356 - val_accuracy: 0.8143 - 43ms/epoch - 9ms/step\n",
      "Epoch 20/100\n",
      "5/5 - 0s - loss: 0.6512 - accuracy: 0.6893 - val_loss: 0.6316 - val_accuracy: 0.8143 - 44ms/epoch - 9ms/step\n",
      "Epoch 21/100\n",
      "5/5 - 0s - loss: 0.6483 - accuracy: 0.6893 - val_loss: 0.6278 - val_accuracy: 0.8000 - 45ms/epoch - 9ms/step\n",
      "Epoch 22/100\n",
      "5/5 - 0s - loss: 0.6455 - accuracy: 0.7036 - val_loss: 0.6246 - val_accuracy: 0.8000 - 43ms/epoch - 9ms/step\n",
      "Epoch 23/100\n",
      "5/5 - 0s - loss: 0.6426 - accuracy: 0.7125 - val_loss: 0.6214 - val_accuracy: 0.8000 - 42ms/epoch - 8ms/step\n",
      "Epoch 24/100\n",
      "5/5 - 0s - loss: 0.6397 - accuracy: 0.7304 - val_loss: 0.6195 - val_accuracy: 0.7714 - 44ms/epoch - 9ms/step\n",
      "Epoch 25/100\n",
      "5/5 - 0s - loss: 0.6370 - accuracy: 0.7375 - val_loss: 0.6173 - val_accuracy: 0.7714 - 44ms/epoch - 9ms/step\n",
      "Epoch 26/100\n",
      "5/5 - 0s - loss: 0.6342 - accuracy: 0.7411 - val_loss: 0.6146 - val_accuracy: 0.7571 - 42ms/epoch - 8ms/step\n",
      "Epoch 27/100\n",
      "5/5 - 0s - loss: 0.6315 - accuracy: 0.7411 - val_loss: 0.6126 - val_accuracy: 0.7571 - 45ms/epoch - 9ms/step\n",
      "Epoch 28/100\n",
      "5/5 - 0s - loss: 0.6289 - accuracy: 0.7411 - val_loss: 0.6100 - val_accuracy: 0.7714 - 43ms/epoch - 9ms/step\n",
      "Epoch 29/100\n",
      "5/5 - 0s - loss: 0.6264 - accuracy: 0.7393 - val_loss: 0.6069 - val_accuracy: 0.7857 - 44ms/epoch - 9ms/step\n",
      "Epoch 30/100\n",
      "5/5 - 0s - loss: 0.6239 - accuracy: 0.7411 - val_loss: 0.6039 - val_accuracy: 0.7857 - 43ms/epoch - 9ms/step\n",
      "Epoch 31/100\n",
      "5/5 - 0s - loss: 0.6217 - accuracy: 0.7446 - val_loss: 0.6010 - val_accuracy: 0.7857 - 43ms/epoch - 9ms/step\n",
      "Epoch 32/100\n",
      "5/5 - 0s - loss: 0.6194 - accuracy: 0.7464 - val_loss: 0.5987 - val_accuracy: 0.7857 - 47ms/epoch - 9ms/step\n",
      "Epoch 33/100\n",
      "5/5 - 0s - loss: 0.6173 - accuracy: 0.7446 - val_loss: 0.5972 - val_accuracy: 0.7857 - 47ms/epoch - 9ms/step\n",
      "Epoch 34/100\n",
      "5/5 - 0s - loss: 0.6154 - accuracy: 0.7429 - val_loss: 0.5957 - val_accuracy: 0.7857 - 48ms/epoch - 10ms/step\n",
      "Epoch 35/100\n",
      "5/5 - 0s - loss: 0.6133 - accuracy: 0.7446 - val_loss: 0.5950 - val_accuracy: 0.7857 - 44ms/epoch - 9ms/step\n",
      "Epoch 36/100\n",
      "5/5 - 0s - loss: 0.6116 - accuracy: 0.7446 - val_loss: 0.5935 - val_accuracy: 0.7857 - 46ms/epoch - 9ms/step\n",
      "Epoch 37/100\n",
      "5/5 - 0s - loss: 0.6097 - accuracy: 0.7446 - val_loss: 0.5929 - val_accuracy: 0.7714 - 47ms/epoch - 9ms/step\n",
      "Epoch 38/100\n",
      "5/5 - 0s - loss: 0.6081 - accuracy: 0.7411 - val_loss: 0.5926 - val_accuracy: 0.7714 - 48ms/epoch - 10ms/step\n",
      "Epoch 39/100\n",
      "5/5 - 0s - loss: 0.6066 - accuracy: 0.7446 - val_loss: 0.5922 - val_accuracy: 0.7714 - 47ms/epoch - 9ms/step\n",
      "Epoch 40/100\n",
      "5/5 - 0s - loss: 0.6050 - accuracy: 0.7464 - val_loss: 0.5899 - val_accuracy: 0.7714 - 45ms/epoch - 9ms/step\n",
      "Epoch 41/100\n",
      "5/5 - 0s - loss: 0.6034 - accuracy: 0.7446 - val_loss: 0.5886 - val_accuracy: 0.7714 - 45ms/epoch - 9ms/step\n",
      "Epoch 42/100\n",
      "5/5 - 0s - loss: 0.6019 - accuracy: 0.7518 - val_loss: 0.5866 - val_accuracy: 0.7714 - 44ms/epoch - 9ms/step\n",
      "Epoch 43/100\n",
      "5/5 - 0s - loss: 0.6005 - accuracy: 0.7536 - val_loss: 0.5842 - val_accuracy: 0.7857 - 48ms/epoch - 10ms/step\n",
      "Epoch 44/100\n",
      "5/5 - 0s - loss: 0.5991 - accuracy: 0.7518 - val_loss: 0.5819 - val_accuracy: 0.7857 - 46ms/epoch - 9ms/step\n",
      "Epoch 45/100\n",
      "5/5 - 0s - loss: 0.5978 - accuracy: 0.7518 - val_loss: 0.5809 - val_accuracy: 0.7857 - 54ms/epoch - 11ms/step\n",
      "Epoch 46/100\n",
      "5/5 - 0s - loss: 0.5965 - accuracy: 0.7554 - val_loss: 0.5804 - val_accuracy: 0.7857 - 53ms/epoch - 11ms/step\n",
      "Epoch 47/100\n",
      "5/5 - 0s - loss: 0.5952 - accuracy: 0.7536 - val_loss: 0.5808 - val_accuracy: 0.7714 - 51ms/epoch - 10ms/step\n"
     ]
    },
    {
     "data": {
      "text/plain": [
       "<keras.callbacks.History at 0x1b3184b8f10>"
      ]
     },
     "execution_count": 104,
     "metadata": {},
     "output_type": "execute_result"
    }
   ],
   "source": [
    "BATCH_SIZE = 128\n",
    "MAX_EPOCHS = 100\n",
    "early_stopping = tf.keras.callbacks.EarlyStopping(\n",
    "    monitor='val_loss',\n",
    "    patience = 1\n",
    ")\n",
    "\n",
    "model.fit(\n",
    "    train_inputs,\n",
    "    train_targets,\n",
    "    batch_size=BATCH_SIZE,\n",
    "    epochs=MAX_EPOCHS,\n",
    "    callbacks=early_stopping,\n",
    "    validation_data=(validation_inputs,validation_targets),\n",
    "    verbose=2\n",
    ")"
   ]
  },
  {
   "cell_type": "markdown",
   "id": "4fa65aa6",
   "metadata": {},
   "source": [
    "# test the model"
   ]
  },
  {
   "cell_type": "code",
   "execution_count": 105,
   "id": "8a7af4d5",
   "metadata": {},
   "outputs": [
    {
     "name": "stdout",
     "output_type": "stream",
     "text": [
      "3/3 [==============================] - 0s 3ms/step - loss: 0.5877 - accuracy: 0.7571\n",
      "Test loss: 0.59 - Test accuracy: 75.71%\n"
     ]
    }
   ],
   "source": [
    "test_loss, test_occuracy = model.evaluate(test_inputs, test_targets)\n",
    "print('Test loss: {0:.2f} - Test accuracy: {1:.2f}%'.format(test_loss,test_occuracy*100))"
   ]
  },
  {
   "cell_type": "code",
   "execution_count": 115,
   "id": "f78fd257",
   "metadata": {},
   "outputs": [
    {
     "data": {
      "text/plain": [
       "<KerasTensor: shape=(None, 1) dtype=float32 (created by layer 'dense_120')>"
      ]
     },
     "execution_count": 115,
     "metadata": {},
     "output_type": "execute_result"
    }
   ],
   "source": []
  }
 ],
 "metadata": {
  "kernelspec": {
   "display_name": "Python [conda env:py3-TF2.0] *",
   "language": "python",
   "name": "conda-env-py3-TF2.0-py"
  },
  "language_info": {
   "codemirror_mode": {
    "name": "ipython",
    "version": 3
   },
   "file_extension": ".py",
   "mimetype": "text/x-python",
   "name": "python",
   "nbconvert_exporter": "python",
   "pygments_lexer": "ipython3",
   "version": "3.10.4"
  }
 },
 "nbformat": 4,
 "nbformat_minor": 5
}
